{
 "cells": [
  {
   "cell_type": "markdown",
   "metadata": {},
   "source": [
    "# Questioning Barbie and Oppenheimer Through the Use of Agents\n",
    "\n",
    "In the following notebook we will build an application that queries both the Barbie and Oppenheimer movies Wikipedia pages, as well as their reviews. \n",
    "\n",
    "The main focus of this notebook is to showcase a brief introduction to Agents.\n",
    "\n",
    "## Build 🏗️\n",
    "\n",
    "There are 3 main tasks in this notebook:\n",
    "\n",
    "1. Contruct a Barbie retriever\n",
    "2. Construct an Oppenheimer retriever\n",
    "3. Combine the two and allow users to query both resources from a single input through the use of Agents\n",
    "\n",
    "## Ship 🚢\n",
    "\n",
    "Based on Tuesday's session - construct a Chainlit (or Gradio) application that allows users to interface with the application.\n",
    "\n",
    "## Share 🚀\n",
    "\n",
    "Make a social media post about your final application."
   ]
  },
  {
   "cell_type": "markdown",
   "metadata": {},
   "source": [
    "### Dependencies\n",
    "\n",
    "As always, let's start with some dependencies!"
   ]
  },
  {
   "cell_type": "code",
   "execution_count": 23,
   "metadata": {},
   "outputs": [],
   "source": [
    "!pip install -q -U langchain openai"
   ]
  },
  {
   "cell_type": "code",
   "execution_count": 25,
   "metadata": {},
   "outputs": [
    {
     "name": "stdout",
     "output_type": "stream",
     "text": [
      "Enter your OpenAI API Key: ········\n"
     ]
    }
   ],
   "source": [
    "import getpass\n",
    "import os\n",
    "openai_api_key = getpass.getpass(\"Enter your OpenAI API Key: \")\n",
    "os.environ[\"OPENAI_API_KEY\"] = openai_api_key"
   ]
  },
  {
   "cell_type": "markdown",
   "metadata": {},
   "source": [
    "### LLM \n",
    "\n",
    "We will be leveraging OpenAI's `gpt-3.5-turbo` throughout the notebook, and we can keep it consistent throughout!"
   ]
  },
  {
   "cell_type": "code",
   "execution_count": 26,
   "metadata": {},
   "outputs": [],
   "source": [
    "from langchain.chat_models import ChatOpenAI\n",
    "llm = ChatOpenAI(model=\"gpt-3.5-turbo\", temperature = 0)"
   ]
  },
  {
   "cell_type": "markdown",
   "metadata": {},
   "source": [
    "### Data Collection and Transformation\n",
    "\n",
    "We'll be leveraging the `WikipediaLoader` tool to collect information from Wikipedia. \n",
    "\n",
    "Be sure to set the `doc_content_chars_max` parameter so that you capture the *entire* Wikipedia article content."
   ]
  },
  {
   "cell_type": "code",
   "execution_count": 27,
   "metadata": {},
   "outputs": [],
   "source": [
    "!pip install -q -U wikipedia"
   ]
  },
  {
   "cell_type": "code",
   "execution_count": 28,
   "metadata": {},
   "outputs": [],
   "source": [
    "from langchain.document_loaders import WikipediaLoader, CSVLoader\n",
    "\n",
    "barbie_wikipedia_docs = WikipediaLoader(\n",
    "    query=\"Barbie (film)\", \n",
    "    load_max_docs= 1, \n",
    "    doc_content_chars_max= 1_000_000\n",
    "    ).load()\n",
    "\n",
    "barbie_csv_docs = CSVLoader(\n",
    "    file_path= 'barbie_data/barbie.csv' ,\n",
    "    source_column= 'Review_Url' \n",
    "    ).load()"
   ]
  },
  {
   "cell_type": "markdown",
   "metadata": {},
   "source": [
    "Since we'll be using same format source documentation separated by topic, we can save ourselves some extra effort and set up our splitters once. \n",
    "\n",
    "We're going to leverage the `RecursiveCharacterTextSplitter` again, this time paying close attention to the format our Wikipedia articles and reviews are in so we can be sure to chunk them appropritately. \n",
    "\n",
    "> HINT: You can pass a list of separators when you intialize your `RecursiveTextSplitter`! They are acted on in order of element 0 -> element len(list).\n",
    "\n",
    "RELEVANT DOCS:\n",
    "- [`RecursiveCharacterTextSplitter`](https://api.python.langchain.com/en/latest/text_splitter/langchain.text_splitter.RecursiveCharacterTextSplitter.html#langchain.text_splitter.RecursiveCharacterTextSplitter)"
   ]
  },
  {
   "cell_type": "code",
   "execution_count": 29,
   "metadata": {},
   "outputs": [],
   "source": [
    "from langchain.text_splitter import RecursiveCharacterTextSplitter\n",
    "\n",
    "wikipedia_text_splitter = RecursiveCharacterTextSplitter(\n",
    "     chunk_size = 500,\n",
    "    chunk_overlap = 0,\n",
    "    length_function = len,\n",
    "    is_separator_regex= False,\n",
    "    separators = [\"\\n==\", \"\\n\", \" \"] # keep headings, then paragraphs, then sentences\n",
    ")\n",
    "\n",
    "csv_text_splitter = RecursiveCharacterTextSplitter(\n",
    "    chunk_size = 1000,\n",
    "    chunk_overlap = 50,\n",
    "    length_function = len,\n",
    "    is_separator_regex= False,\n",
    "    separators = [\"\\n\", \" \"] ### YOUR CODE HERE # keep paragraphs, then sentences\n",
    ")\n",
    "\n",
    "chunked_barbie_wikipedia_docs = wikipedia_text_splitter.transform_documents(barbie_wikipedia_docs)\n",
    "chunked_barbie_csv_docs = csv_text_splitter.transform_documents(barbie_csv_docs)"
   ]
  },
  {
   "cell_type": "markdown",
   "metadata": {},
   "source": [
    "#### Retrieval and Embedding Strategy\n",
    "\n",
    "We've already discussed the useful application of `CacheBackedEmbeddings`, so let's do it again!\n",
    "\n",
    "RELEVANT DOCS:\n",
    "- [`CacheBackedEmbeddings`](https://api.python.langchain.com/en/latest/embeddings/langchain.embeddings.cache.CacheBackedEmbeddings.html#langchain-embeddings-cache-cachebackedembeddings)"
   ]
  },
  {
   "cell_type": "code",
   "execution_count": 30,
   "metadata": {},
   "outputs": [],
   "source": [
    "!pip install -q -U rank_bm25 tiktoken faiss-cpu"
   ]
  },
  {
   "cell_type": "code",
   "execution_count": 31,
   "metadata": {},
   "outputs": [],
   "source": [
    "from langchain.retrievers import BM25Retriever, EnsembleRetriever\n",
    "from langchain.vectorstores import FAISS\n",
    "from langchain.embeddings.openai import OpenAIEmbeddings\n",
    "from langchain.embeddings import CacheBackedEmbeddings\n",
    "from langchain.storage import LocalFileStore\n",
    "\n",
    "# set up cached embeddings store\n",
    "store = LocalFileStore(\"./shared_cache/\")\n",
    "\n",
    "core_embeddings_model = OpenAIEmbeddings()\n",
    "\n",
    "embedder = CacheBackedEmbeddings.from_bytes_store(\n",
    "    core_embeddings_model, store, namespace=core_embeddings_model.model\n",
    ")"
   ]
  },
  {
   "cell_type": "markdown",
   "metadata": {},
   "source": [
    "We'll implement a `FAISS` vectorstore, and create a retriever from it."
   ]
  },
  {
   "cell_type": "code",
   "execution_count": 32,
   "metadata": {},
   "outputs": [],
   "source": [
    "barbie_csv_faiss_retriever = FAISS.from_documents(chunked_barbie_csv_docs, embedder).as_retriever()\n"
   ]
  },
  {
   "cell_type": "markdown",
   "metadata": {},
   "source": [
    "There are a number of excellent options to retrieve documents - we'll be looking at an additional example today, which is called the `EnsembleRetriever`.\n",
    "\n",
    "The method this is using is outlined in [this paper](https://plg.uwaterloo.ca/~gvcormac/cormacksigir09-rrf.pdf).\n",
    "\n",
    "The brief explanation is:\n",
    "\n",
    "1. We collect results from two different retrieval methods over the same corpus\n",
    "2. We apply a reranking algorithm to rerank our source documents to be the *most relevant* without losing specific or potentially low-ranked information rich documents\n",
    "3. We feed the top-k results into the LLM with our query as context.\n",
    "\n",
    "> HINT: Your weight list should be of type `List[float]` and the `sum(List[float])` should be `1`."
   ]
  },
  {
   "cell_type": "code",
   "execution_count": 33,
   "metadata": {},
   "outputs": [],
   "source": [
    "# set up BM25 retriever\n",
    "barbie_wikipedia_bm25_retriever = BM25Retriever.from_documents(\n",
    "    chunked_barbie_wikipedia_docs\n",
    ")\n",
    "barbie_wikipedia_bm25_retriever.k = 1\n",
    "\n",
    "# set up FAISS vector store\n",
    "barbie_wikipedia_faiss_store = FAISS.from_documents(\n",
    "    chunked_barbie_wikipedia_docs, embedder\n",
    ")\n",
    "barbie_wikipedia_faiss_retriever = barbie_wikipedia_faiss_store.as_retriever(search_kwargs={\"k\": 1})\n",
    "\n",
    "# set up ensemble retriever\n",
    "barbie_ensemble_retriever = EnsembleRetriever(\n",
    "    retrievers=[barbie_wikipedia_bm25_retriever, barbie_wikipedia_faiss_retriever],\n",
    "    weights=[0.25, 0.75] # should sum to 1\n",
    ")"
   ]
  },
  {
   "cell_type": "markdown",
   "metadata": {},
   "source": [
    "#### Retrieval Agent\n",
    "\n",
    "We can create a simple conversational retrieval Agent by using the built-ins provided by LangChain!\n",
    "\n",
    "> HINT: Be sure to provide good natural language descriptions of what the tool should be used for to get the best results.\n",
    "\n",
    "RELEVANT DOCS:\n",
    "- [`create_retriever_tool`](https://api.python.langchain.com/en/latest/agents/langchain.agents.agent_toolkits.conversational_retrieval.tool.create_retriever_tool.html#langchain.agents.agent_toolkits.conversational_retrieval.tool.create_retriever_tool)"
   ]
  },
  {
   "cell_type": "code",
   "execution_count": 34,
   "metadata": {},
   "outputs": [],
   "source": [
    "from langchain.agents.agent_toolkits import create_retriever_tool\n",
    "\n",
    "barbie_wikipedia_retrieval_tool = create_retriever_tool(\n",
    "    barbie_ensemble_retriever, \n",
    "    \"Wikipedia\",\n",
    "    \"Search for information pertaining to the plot, historical context, and cast of the Barbie movie.\"\n",
    ")\n",
    "\n",
    "barbie_csv_retrieval_tool = create_retriever_tool(\n",
    "    barbie_csv_faiss_retriever,\n",
    "    \"PublicReviews\",\n",
    "    \"Search and retrieves documents containing public reviews of the Barbie movie.\"\n",
    ")\n",
    "\n",
    "barbie_retriever_tools = [barbie_wikipedia_retrieval_tool, barbie_csv_retrieval_tool]"
   ]
  },
  {
   "cell_type": "markdown",
   "metadata": {},
   "source": [
    "Now that we've created our tools, we can combined them into an agent!\n",
    "\n",
    "RELEVANT DOCS:\n",
    "- [`create_conversational_retrieval_agent`](https://api.python.langchain.com/en/latest/agents/langchain.agents.agent_toolkits.conversational_retrieval.openai_functions.create_conversational_retrieval_agent.html#langchain.agents.agent_toolkits.conversational_retrieval.openai_functions.create_conversational_retrieval_agent)"
   ]
  },
  {
   "cell_type": "code",
   "execution_count": 35,
   "metadata": {},
   "outputs": [],
   "source": [
    "from langchain.agents.agent_toolkits import create_conversational_retrieval_agent\n",
    "\n",
    "barbie_retriever_agent_executor = create_conversational_retrieval_agent(llm, barbie_retriever_tools, verbose=True)"
   ]
  },
  {
   "cell_type": "code",
   "execution_count": 36,
   "metadata": {},
   "outputs": [
    {
     "name": "stdout",
     "output_type": "stream",
     "text": [
      "\n",
      "\n",
      "\u001b[1m> Entering new AgentExecutor chain...\u001b[0m\n",
      "\u001b[32;1m\u001b[1;3m\n",
      "Invoking: `PublicReviews` with `Barbie movie`\n",
      "\n",
      "\n",
      "\u001b[0m\u001b[33;1m\u001b[1;3m[Document(page_content=\"Review: The big summer blockbuster of 2023 is a wonderful visual spectacle with a great deal of creative physical comedy, centered in and around the universe of Barbie, Mattel's historic toy doll. Unfortunately, the film tries to be and do much more than what the filmmakers ultimately are able to control and reel in. That a movie about Barbie would be guilty of Americanization is no surprise, and in many ways more than befitting, but the Americanization here isn't just about the history of the toy itself and all its cultural impacts - Barbie also views everything through the eyes of Hollywood anno 2023 - which arguably is a very particular and perhaps not that representative outlook. Instead of utilizing the fine foundation laid in the film's first third, director and co-writer Greta Gervig (Lady Bird, Little Women) gets herself lost in a trite, divisive and most likely futile battle of the sexes, which will leave youths - and perhaps particularly Europeans - feeling confused and\", metadata={'source': '/review/rw9199947/?ref_=tt_urv', 'row': 116}), Document(page_content=': 53\\nReview_Date: 29 July 2023\\nAuthor: planktonrules\\nRating: 6\\nReview_Title: Good...not great\\nReview: \"Barbie\" is a movie that is setting all sorts of records, so it\\'s obvious that the film is touching many people. For some, it\\'s the fun of seeing a doll come to life, for others it\\'s the theme of empowerment that make the movie a big hit. As for me, I did like it and thought it was a pretty good movie...but it\\'s not for everyone.\\nReview_Url: /review/rw9199947/?ref_=tt_urv', metadata={'source': '/review/rw9199947/?ref_=tt_urv', 'row': 53}), Document(page_content=': 97\\nReview_Date: 21 July 2023\\nAuthor: MrDHWong\\nRating: 9\\nReview_Title: A darkly satirical look at gender structure in society\\nReview: \"Barbie\" is a comedy film based on the line of fashion dolls by Mattel. Directed and co-written by Greta Gerwig (\"Lady Bird\", \"Little Women\") and starring Margot Robbie and Ryan Gosling, it takes every opportunity to revel in its amusing premise with a darkly satirical look at gender structure in society.\\nReview_Url: /review/rw9199947/?ref_=tt_urv', metadata={'source': '/review/rw9199947/?ref_=tt_urv', 'row': 97}), Document(page_content=\": 104\\nReview_Date: 22 July 2023\\nAuthor: No-Life-101\\nRating: 8\\nReview_Title: Barbie has an existential crisis\\nReview: Barbie is a really fun movie that all ages can enjoy because while it's colourful and entertaining the main storyline can get emotional at times. The comedy in the movie is pretty funny too and got a few laughs from everyone in the cinema, the music is really nice and so are the choreographed dances. What I liked the most about this movie is that it was very doll-like, the food and drink were plastic and fake, the cars didn't have engines and just glided along the floor, and the actors were doll-like in their movements and how they interacted with their environment.\\nReview_Url: /review/rw9199947/?ref_=tt_urv\", metadata={'source': '/review/rw9199947/?ref_=tt_urv', 'row': 104})]\u001b[0m\u001b[32;1m\u001b[1;3mBased on the public reviews of the Barbie movie, opinions are mixed. Some people enjoyed the movie and found it entertaining, while others had reservations or found it confusing.\n",
      "\n",
      "One reviewer mentioned that the film tries to be more than just a movie about Barbie and explores themes of Americanization and Hollywood culture. This may have contributed to a more philosophical tone in the movie.\n",
      "\n",
      "Another reviewer described the movie as a darkly satirical look at gender structure in society, suggesting that it delves into deeper social issues.\n",
      "\n",
      "One reviewer mentioned that the main storyline of the movie can get emotional at times, which could contribute to a more philosophical or introspective tone.\n",
      "\n",
      "Overall, it seems that the Barbie movie may have elements that touch on philosophical themes, but whether people found it too philosophical or not would depend on individual preferences and interpretations.\u001b[0m\n",
      "\n",
      "\u001b[1m> Finished chain.\u001b[0m\n"
     ]
    },
    {
     "data": {
      "text/plain": [
       "{'input': 'Did people like Barbie, or did they find it too Philosphical? If they did, can you tell me why the movie is so Philosophical?',\n",
       " 'chat_history': [HumanMessage(content='Did people like Barbie, or did they find it too Philosphical? If they did, can you tell me why the movie is so Philosophical?', additional_kwargs={}, example=False),\n",
       "  AIMessage(content='', additional_kwargs={'function_call': {'name': 'PublicReviews', 'arguments': '{\\n  \"__arg1\": \"Barbie movie\"\\n}'}}, example=False),\n",
       "  FunctionMessage(content='[Document(page_content=\"Review: The big summer blockbuster of 2023 is a wonderful visual spectacle with a great deal of creative physical comedy, centered in and around the universe of Barbie, Mattel\\'s historic toy doll. Unfortunately, the film tries to be and do much more than what the filmmakers ultimately are able to control and reel in. That a movie about Barbie would be guilty of Americanization is no surprise, and in many ways more than befitting, but the Americanization here isn\\'t just about the history of the toy itself and all its cultural impacts - Barbie also views everything through the eyes of Hollywood anno 2023 - which arguably is a very particular and perhaps not that representative outlook. Instead of utilizing the fine foundation laid in the film\\'s first third, director and co-writer Greta Gervig (Lady Bird, Little Women) gets herself lost in a trite, divisive and most likely futile battle of the sexes, which will leave youths - and perhaps particularly Europeans - feeling confused and\", metadata={\\'source\\': \\'/review/rw9199947/?ref_=tt_urv\\', \\'row\\': 116}), Document(page_content=\\': 53\\\\nReview_Date: 29 July 2023\\\\nAuthor: planktonrules\\\\nRating: 6\\\\nReview_Title: Good...not great\\\\nReview: \"Barbie\" is a movie that is setting all sorts of records, so it\\\\\\'s obvious that the film is touching many people. For some, it\\\\\\'s the fun of seeing a doll come to life, for others it\\\\\\'s the theme of empowerment that make the movie a big hit. As for me, I did like it and thought it was a pretty good movie...but it\\\\\\'s not for everyone.\\\\nReview_Url: /review/rw9199947/?ref_=tt_urv\\', metadata={\\'source\\': \\'/review/rw9199947/?ref_=tt_urv\\', \\'row\\': 53}), Document(page_content=\\': 97\\\\nReview_Date: 21 July 2023\\\\nAuthor: MrDHWong\\\\nRating: 9\\\\nReview_Title: A darkly satirical look at gender structure in society\\\\nReview: \"Barbie\" is a comedy film based on the line of fashion dolls by Mattel. Directed and co-written by Greta Gerwig (\"Lady Bird\", \"Little Women\") and starring Margot Robbie and Ryan Gosling, it takes every opportunity to revel in its amusing premise with a darkly satirical look at gender structure in society.\\\\nReview_Url: /review/rw9199947/?ref_=tt_urv\\', metadata={\\'source\\': \\'/review/rw9199947/?ref_=tt_urv\\', \\'row\\': 97}), Document(page_content=\": 104\\\\nReview_Date: 22 July 2023\\\\nAuthor: No-Life-101\\\\nRating: 8\\\\nReview_Title: Barbie has an existential crisis\\\\nReview: Barbie is a really fun movie that all ages can enjoy because while it\\'s colourful and entertaining the main storyline can get emotional at times. The comedy in the movie is pretty funny too and got a few laughs from everyone in the cinema, the music is really nice and so are the choreographed dances. What I liked the most about this movie is that it was very doll-like, the food and drink were plastic and fake, the cars didn\\'t have engines and just glided along the floor, and the actors were doll-like in their movements and how they interacted with their environment.\\\\nReview_Url: /review/rw9199947/?ref_=tt_urv\", metadata={\\'source\\': \\'/review/rw9199947/?ref_=tt_urv\\', \\'row\\': 104})]', additional_kwargs={}, name='PublicReviews'),\n",
       "  AIMessage(content='Based on the public reviews of the Barbie movie, opinions are mixed. Some people enjoyed the movie and found it entertaining, while others had reservations or found it confusing.\\n\\nOne reviewer mentioned that the film tries to be more than just a movie about Barbie and explores themes of Americanization and Hollywood culture. This may have contributed to a more philosophical tone in the movie.\\n\\nAnother reviewer described the movie as a darkly satirical look at gender structure in society, suggesting that it delves into deeper social issues.\\n\\nOne reviewer mentioned that the main storyline of the movie can get emotional at times, which could contribute to a more philosophical or introspective tone.\\n\\nOverall, it seems that the Barbie movie may have elements that touch on philosophical themes, but whether people found it too philosophical or not would depend on individual preferences and interpretations.', additional_kwargs={}, example=False)],\n",
       " 'output': 'Based on the public reviews of the Barbie movie, opinions are mixed. Some people enjoyed the movie and found it entertaining, while others had reservations or found it confusing.\\n\\nOne reviewer mentioned that the film tries to be more than just a movie about Barbie and explores themes of Americanization and Hollywood culture. This may have contributed to a more philosophical tone in the movie.\\n\\nAnother reviewer described the movie as a darkly satirical look at gender structure in society, suggesting that it delves into deeper social issues.\\n\\nOne reviewer mentioned that the main storyline of the movie can get emotional at times, which could contribute to a more philosophical or introspective tone.\\n\\nOverall, it seems that the Barbie movie may have elements that touch on philosophical themes, but whether people found it too philosophical or not would depend on individual preferences and interpretations.',\n",
       " 'intermediate_steps': [(_FunctionsAgentAction(tool='PublicReviews', tool_input='Barbie movie', log='\\nInvoking: `PublicReviews` with `Barbie movie`\\n\\n\\n', message_log=[AIMessage(content='', additional_kwargs={'function_call': {'name': 'PublicReviews', 'arguments': '{\\n  \"__arg1\": \"Barbie movie\"\\n}'}}, example=False)]),\n",
       "   [Document(page_content=\"Review: The big summer blockbuster of 2023 is a wonderful visual spectacle with a great deal of creative physical comedy, centered in and around the universe of Barbie, Mattel's historic toy doll. Unfortunately, the film tries to be and do much more than what the filmmakers ultimately are able to control and reel in. That a movie about Barbie would be guilty of Americanization is no surprise, and in many ways more than befitting, but the Americanization here isn't just about the history of the toy itself and all its cultural impacts - Barbie also views everything through the eyes of Hollywood anno 2023 - which arguably is a very particular and perhaps not that representative outlook. Instead of utilizing the fine foundation laid in the film's first third, director and co-writer Greta Gervig (Lady Bird, Little Women) gets herself lost in a trite, divisive and most likely futile battle of the sexes, which will leave youths - and perhaps particularly Europeans - feeling confused and\", metadata={'source': '/review/rw9199947/?ref_=tt_urv', 'row': 116}),\n",
       "    Document(page_content=': 53\\nReview_Date: 29 July 2023\\nAuthor: planktonrules\\nRating: 6\\nReview_Title: Good...not great\\nReview: \"Barbie\" is a movie that is setting all sorts of records, so it\\'s obvious that the film is touching many people. For some, it\\'s the fun of seeing a doll come to life, for others it\\'s the theme of empowerment that make the movie a big hit. As for me, I did like it and thought it was a pretty good movie...but it\\'s not for everyone.\\nReview_Url: /review/rw9199947/?ref_=tt_urv', metadata={'source': '/review/rw9199947/?ref_=tt_urv', 'row': 53}),\n",
       "    Document(page_content=': 97\\nReview_Date: 21 July 2023\\nAuthor: MrDHWong\\nRating: 9\\nReview_Title: A darkly satirical look at gender structure in society\\nReview: \"Barbie\" is a comedy film based on the line of fashion dolls by Mattel. Directed and co-written by Greta Gerwig (\"Lady Bird\", \"Little Women\") and starring Margot Robbie and Ryan Gosling, it takes every opportunity to revel in its amusing premise with a darkly satirical look at gender structure in society.\\nReview_Url: /review/rw9199947/?ref_=tt_urv', metadata={'source': '/review/rw9199947/?ref_=tt_urv', 'row': 97}),\n",
       "    Document(page_content=\": 104\\nReview_Date: 22 July 2023\\nAuthor: No-Life-101\\nRating: 8\\nReview_Title: Barbie has an existential crisis\\nReview: Barbie is a really fun movie that all ages can enjoy because while it's colourful and entertaining the main storyline can get emotional at times. The comedy in the movie is pretty funny too and got a few laughs from everyone in the cinema, the music is really nice and so are the choreographed dances. What I liked the most about this movie is that it was very doll-like, the food and drink were plastic and fake, the cars didn't have engines and just glided along the floor, and the actors were doll-like in their movements and how they interacted with their environment.\\nReview_Url: /review/rw9199947/?ref_=tt_urv\", metadata={'source': '/review/rw9199947/?ref_=tt_urv', 'row': 104})])]}"
      ]
     },
     "execution_count": 36,
     "metadata": {},
     "output_type": "execute_result"
    }
   ],
   "source": [
    "barbie_retriever_agent_executor({\"input\" : \"Did people like Barbie, or did they find it too Philosphical? If they did, can you tell me why the movie is so Philosophical?\"})"
   ]
  },
  {
   "cell_type": "code",
   "execution_count": 37,
   "metadata": {},
   "outputs": [
    {
     "name": "stdout",
     "output_type": "stream",
     "text": [
      "\n",
      "\n",
      "\u001b[1m> Entering new AgentExecutor chain...\u001b[0m\n",
      "\u001b[32;1m\u001b[1;3m\n",
      "Invoking: `Wikipedia` with `Barbie movie`\n",
      "\n",
      "\n",
      "\u001b[0m\u001b[36;1m\u001b[1;3m[Document(page_content='Barbie is a 2023 American fantasy comedy film directed by Greta Gerwig from a screenplay she wrote with Noah Baumbach. Based on the Barbie fashion dolls by Mattel, it is the first live-action Barbie film after numerous computer-animated films and specials. The film follows Barbie (Margot Robbie) and Ken (Ryan Gosling) on a journey of self-discovery following an existential crisis. It features an ensemble supporting cast, including America Ferrera, Kate McKinnon, Helen Mirren, Issa Rae, Simu Liu,', metadata={'title': 'Barbie (film)', 'summary': 'Barbie is a 2023 American fantasy comedy film directed by Greta Gerwig from a screenplay she wrote with Noah Baumbach. Based on the Barbie fashion dolls by Mattel, it is the first live-action Barbie film after numerous computer-animated films and specials. The film follows Barbie (Margot Robbie) and Ken (Ryan Gosling) on a journey of self-discovery following an existential crisis. It features an ensemble supporting cast, including America Ferrera, Kate McKinnon, Helen Mirren, Issa Rae, Simu Liu, Michael Cera, Rhea Perlman, and Will Ferrell.\\nA live-action Barbie film was announced in September 2009 by Universal Pictures with Laurence Mark producing. Development began in April 2014, when Sony Pictures acquired the film rights. Following multiple writer and director changes and the casting of Amy Schumer and later Anne Hathaway as Barbie, the rights were transferred to Warner Bros. Pictures in October 2018. Robbie was cast in 2019, after Gal Gadot turned down the role due to scheduling conflicts, and Gerwig was announced as director and co-writer with Baumbach in 2020. The rest of the cast were announced in early 2022. Filming took place primarily at Warner Bros. Studios, Leavesden, in England and on the Venice Beach Skatepark in Los Angeles from March to July 2022.\\nBarbie premiered at the Shrine Auditorium in Los Angeles on July 9, 2023, and was theatrically released in the United States on July 21 by Warner Bros. Pictures. Its simultaneous release with Universal\\'s Oppenheimer led to the \"Barbenheimer\" cultural phenomenon, which encouraged audiences to see both films as a double feature. The film received critical acclaim and has grossed $1.279 billion worldwide, becoming the second highest-grossing film of 2023, as well as the highest-grossing film directed solely by a woman and the 21st highest-grossing film of all-time.', 'source': 'https://en.wikipedia.org/wiki/Barbie_(film)'}), Document(page_content='fictional Barbieland. While many reviews of the film interpreted this as a critique of the song, director Greta Gerwig said that she was a fan of Matchbox Twenty and \"I never put anything in a movie I don’t love.\"', metadata={'title': 'Barbie (film)', 'summary': 'Barbie is a 2023 American fantasy comedy film directed by Greta Gerwig from a screenplay she wrote with Noah Baumbach. Based on the Barbie fashion dolls by Mattel, it is the first live-action Barbie film after numerous computer-animated films and specials. The film follows Barbie (Margot Robbie) and Ken (Ryan Gosling) on a journey of self-discovery following an existential crisis. It features an ensemble supporting cast, including America Ferrera, Kate McKinnon, Helen Mirren, Issa Rae, Simu Liu, Michael Cera, Rhea Perlman, and Will Ferrell.\\nA live-action Barbie film was announced in September 2009 by Universal Pictures with Laurence Mark producing. Development began in April 2014, when Sony Pictures acquired the film rights. Following multiple writer and director changes and the casting of Amy Schumer and later Anne Hathaway as Barbie, the rights were transferred to Warner Bros. Pictures in October 2018. Robbie was cast in 2019, after Gal Gadot turned down the role due to scheduling conflicts, and Gerwig was announced as director and co-writer with Baumbach in 2020. The rest of the cast were announced in early 2022. Filming took place primarily at Warner Bros. Studios, Leavesden, in England and on the Venice Beach Skatepark in Los Angeles from March to July 2022.\\nBarbie premiered at the Shrine Auditorium in Los Angeles on July 9, 2023, and was theatrically released in the United States on July 21 by Warner Bros. Pictures. Its simultaneous release with Universal\\'s Oppenheimer led to the \"Barbenheimer\" cultural phenomenon, which encouraged audiences to see both films as a double feature. The film received critical acclaim and has grossed $1.279 billion worldwide, becoming the second highest-grossing film of 2023, as well as the highest-grossing film directed solely by a woman and the 21st highest-grossing film of all-time.', 'source': 'https://en.wikipedia.org/wiki/Barbie_(film)'})]\u001b[0m\u001b[32;1m\u001b[1;3mThe Barbie movie is a 2023 American fantasy comedy film directed by Greta Gerwig. It is the first live-action Barbie film based on the Barbie fashion dolls by Mattel. The movie follows Barbie (played by Margot Robbie) and Ken (played by Ryan Gosling) on a journey of self-discovery following an existential crisis. The film features an ensemble supporting cast, including America Ferrera, Kate McKinnon, Helen Mirren, Issa Rae, Simu Liu, Michael Cera, Rhea Perlman, and Will Ferrell. The plot revolves around Barbie and Ken's exploration of their identities and purpose in the fictional world of Barbieland. The movie received critical acclaim and became one of the highest-grossing films of 2023.\u001b[0m\n",
      "\n",
      "\u001b[1m> Finished chain.\u001b[0m\n"
     ]
    },
    {
     "data": {
      "text/plain": [
       "{'input': 'What is a very quick summary of the plot of the Barbie movie?',\n",
       " 'chat_history': [AIMessage(content='Based on the public reviews of the Barbie movie, opinions are mixed. Some people enjoyed the movie and found it entertaining, while others had reservations or found it confusing.\\n\\nOne reviewer mentioned that the film tries to be more than just a movie about Barbie and explores themes of Americanization and Hollywood culture. This may have contributed to a more philosophical tone in the movie.\\n\\nAnother reviewer described the movie as a darkly satirical look at gender structure in society, suggesting that it delves into deeper social issues.\\n\\nOne reviewer mentioned that the main storyline of the movie can get emotional at times, which could contribute to a more philosophical or introspective tone.\\n\\nOverall, it seems that the Barbie movie may have elements that touch on philosophical themes, but whether people found it too philosophical or not would depend on individual preferences and interpretations.', additional_kwargs={}, example=False),\n",
       "  HumanMessage(content='What is a very quick summary of the plot of the Barbie movie?', additional_kwargs={}, example=False),\n",
       "  AIMessage(content='', additional_kwargs={'function_call': {'name': 'Wikipedia', 'arguments': '{\\n  \"__arg1\": \"Barbie movie\"\\n}'}}, example=False),\n",
       "  FunctionMessage(content='[Document(page_content=\\'Barbie is a 2023 American fantasy comedy film directed by Greta Gerwig from a screenplay she wrote with Noah Baumbach. Based on the Barbie fashion dolls by Mattel, it is the first live-action Barbie film after numerous computer-animated films and specials. The film follows Barbie (Margot Robbie) and Ken (Ryan Gosling) on a journey of self-discovery following an existential crisis. It features an ensemble supporting cast, including America Ferrera, Kate McKinnon, Helen Mirren, Issa Rae, Simu Liu,\\', metadata={\\'title\\': \\'Barbie (film)\\', \\'summary\\': \\'Barbie is a 2023 American fantasy comedy film directed by Greta Gerwig from a screenplay she wrote with Noah Baumbach. Based on the Barbie fashion dolls by Mattel, it is the first live-action Barbie film after numerous computer-animated films and specials. The film follows Barbie (Margot Robbie) and Ken (Ryan Gosling) on a journey of self-discovery following an existential crisis. It features an ensemble supporting cast, including America Ferrera, Kate McKinnon, Helen Mirren, Issa Rae, Simu Liu, Michael Cera, Rhea Perlman, and Will Ferrell.\\\\nA live-action Barbie film was announced in September 2009 by Universal Pictures with Laurence Mark producing. Development began in April 2014, when Sony Pictures acquired the film rights. Following multiple writer and director changes and the casting of Amy Schumer and later Anne Hathaway as Barbie, the rights were transferred to Warner Bros. Pictures in October 2018. Robbie was cast in 2019, after Gal Gadot turned down the role due to scheduling conflicts, and Gerwig was announced as director and co-writer with Baumbach in 2020. The rest of the cast were announced in early 2022. Filming took place primarily at Warner Bros. Studios, Leavesden, in England and on the Venice Beach Skatepark in Los Angeles from March to July 2022.\\\\nBarbie premiered at the Shrine Auditorium in Los Angeles on July 9, 2023, and was theatrically released in the United States on July 21 by Warner Bros. Pictures. Its simultaneous release with Universal\\\\\\'s Oppenheimer led to the \"Barbenheimer\" cultural phenomenon, which encouraged audiences to see both films as a double feature. The film received critical acclaim and has grossed $1.279 billion worldwide, becoming the second highest-grossing film of 2023, as well as the highest-grossing film directed solely by a woman and the 21st highest-grossing film of all-time.\\', \\'source\\': \\'https://en.wikipedia.org/wiki/Barbie_(film)\\'}), Document(page_content=\\'fictional Barbieland. While many reviews of the film interpreted this as a critique of the song, director Greta Gerwig said that she was a fan of Matchbox Twenty and \"I never put anything in a movie I don’t love.\"\\', metadata={\\'title\\': \\'Barbie (film)\\', \\'summary\\': \\'Barbie is a 2023 American fantasy comedy film directed by Greta Gerwig from a screenplay she wrote with Noah Baumbach. Based on the Barbie fashion dolls by Mattel, it is the first live-action Barbie film after numerous computer-animated films and specials. The film follows Barbie (Margot Robbie) and Ken (Ryan Gosling) on a journey of self-discovery following an existential crisis. It features an ensemble supporting cast, including America Ferrera, Kate McKinnon, Helen Mirren, Issa Rae, Simu Liu, Michael Cera, Rhea Perlman, and Will Ferrell.\\\\nA live-action Barbie film was announced in September 2009 by Universal Pictures with Laurence Mark producing. Development began in April 2014, when Sony Pictures acquired the film rights. Following multiple writer and director changes and the casting of Amy Schumer and later Anne Hathaway as Barbie, the rights were transferred to Warner Bros. Pictures in October 2018. Robbie was cast in 2019, after Gal Gadot turned down the role due to scheduling conflicts, and Gerwig was announced as director and co-writer with Baumbach in 2020. The rest of the cast were announced in early 2022. Filming took place primarily at Warner Bros. Studios, Leavesden, in England and on the Venice Beach Skatepark in Los Angeles from March to July 2022.\\\\nBarbie premiered at the Shrine Auditorium in Los Angeles on July 9, 2023, and was theatrically released in the United States on July 21 by Warner Bros. Pictures. Its simultaneous release with Universal\\\\\\'s Oppenheimer led to the \"Barbenheimer\" cultural phenomenon, which encouraged audiences to see both films as a double feature. The film received critical acclaim and has grossed $1.279 billion worldwide, becoming the second highest-grossing film of 2023, as well as the highest-grossing film directed solely by a woman and the 21st highest-grossing film of all-time.\\', \\'source\\': \\'https://en.wikipedia.org/wiki/Barbie_(film)\\'})]', additional_kwargs={}, name='Wikipedia'),\n",
       "  AIMessage(content=\"The Barbie movie is a 2023 American fantasy comedy film directed by Greta Gerwig. It is the first live-action Barbie film based on the Barbie fashion dolls by Mattel. The movie follows Barbie (played by Margot Robbie) and Ken (played by Ryan Gosling) on a journey of self-discovery following an existential crisis. The film features an ensemble supporting cast, including America Ferrera, Kate McKinnon, Helen Mirren, Issa Rae, Simu Liu, Michael Cera, Rhea Perlman, and Will Ferrell. The plot revolves around Barbie and Ken's exploration of their identities and purpose in the fictional world of Barbieland. The movie received critical acclaim and became one of the highest-grossing films of 2023.\", additional_kwargs={}, example=False)],\n",
       " 'output': \"The Barbie movie is a 2023 American fantasy comedy film directed by Greta Gerwig. It is the first live-action Barbie film based on the Barbie fashion dolls by Mattel. The movie follows Barbie (played by Margot Robbie) and Ken (played by Ryan Gosling) on a journey of self-discovery following an existential crisis. The film features an ensemble supporting cast, including America Ferrera, Kate McKinnon, Helen Mirren, Issa Rae, Simu Liu, Michael Cera, Rhea Perlman, and Will Ferrell. The plot revolves around Barbie and Ken's exploration of their identities and purpose in the fictional world of Barbieland. The movie received critical acclaim and became one of the highest-grossing films of 2023.\",\n",
       " 'intermediate_steps': [(_FunctionsAgentAction(tool='Wikipedia', tool_input='Barbie movie', log='\\nInvoking: `Wikipedia` with `Barbie movie`\\n\\n\\n', message_log=[AIMessage(content='', additional_kwargs={'function_call': {'name': 'Wikipedia', 'arguments': '{\\n  \"__arg1\": \"Barbie movie\"\\n}'}}, example=False)]),\n",
       "   [Document(page_content='Barbie is a 2023 American fantasy comedy film directed by Greta Gerwig from a screenplay she wrote with Noah Baumbach. Based on the Barbie fashion dolls by Mattel, it is the first live-action Barbie film after numerous computer-animated films and specials. The film follows Barbie (Margot Robbie) and Ken (Ryan Gosling) on a journey of self-discovery following an existential crisis. It features an ensemble supporting cast, including America Ferrera, Kate McKinnon, Helen Mirren, Issa Rae, Simu Liu,', metadata={'title': 'Barbie (film)', 'summary': 'Barbie is a 2023 American fantasy comedy film directed by Greta Gerwig from a screenplay she wrote with Noah Baumbach. Based on the Barbie fashion dolls by Mattel, it is the first live-action Barbie film after numerous computer-animated films and specials. The film follows Barbie (Margot Robbie) and Ken (Ryan Gosling) on a journey of self-discovery following an existential crisis. It features an ensemble supporting cast, including America Ferrera, Kate McKinnon, Helen Mirren, Issa Rae, Simu Liu, Michael Cera, Rhea Perlman, and Will Ferrell.\\nA live-action Barbie film was announced in September 2009 by Universal Pictures with Laurence Mark producing. Development began in April 2014, when Sony Pictures acquired the film rights. Following multiple writer and director changes and the casting of Amy Schumer and later Anne Hathaway as Barbie, the rights were transferred to Warner Bros. Pictures in October 2018. Robbie was cast in 2019, after Gal Gadot turned down the role due to scheduling conflicts, and Gerwig was announced as director and co-writer with Baumbach in 2020. The rest of the cast were announced in early 2022. Filming took place primarily at Warner Bros. Studios, Leavesden, in England and on the Venice Beach Skatepark in Los Angeles from March to July 2022.\\nBarbie premiered at the Shrine Auditorium in Los Angeles on July 9, 2023, and was theatrically released in the United States on July 21 by Warner Bros. Pictures. Its simultaneous release with Universal\\'s Oppenheimer led to the \"Barbenheimer\" cultural phenomenon, which encouraged audiences to see both films as a double feature. The film received critical acclaim and has grossed $1.279 billion worldwide, becoming the second highest-grossing film of 2023, as well as the highest-grossing film directed solely by a woman and the 21st highest-grossing film of all-time.', 'source': 'https://en.wikipedia.org/wiki/Barbie_(film)'}),\n",
       "    Document(page_content='fictional Barbieland. While many reviews of the film interpreted this as a critique of the song, director Greta Gerwig said that she was a fan of Matchbox Twenty and \"I never put anything in a movie I don’t love.\"', metadata={'title': 'Barbie (film)', 'summary': 'Barbie is a 2023 American fantasy comedy film directed by Greta Gerwig from a screenplay she wrote with Noah Baumbach. Based on the Barbie fashion dolls by Mattel, it is the first live-action Barbie film after numerous computer-animated films and specials. The film follows Barbie (Margot Robbie) and Ken (Ryan Gosling) on a journey of self-discovery following an existential crisis. It features an ensemble supporting cast, including America Ferrera, Kate McKinnon, Helen Mirren, Issa Rae, Simu Liu, Michael Cera, Rhea Perlman, and Will Ferrell.\\nA live-action Barbie film was announced in September 2009 by Universal Pictures with Laurence Mark producing. Development began in April 2014, when Sony Pictures acquired the film rights. Following multiple writer and director changes and the casting of Amy Schumer and later Anne Hathaway as Barbie, the rights were transferred to Warner Bros. Pictures in October 2018. Robbie was cast in 2019, after Gal Gadot turned down the role due to scheduling conflicts, and Gerwig was announced as director and co-writer with Baumbach in 2020. The rest of the cast were announced in early 2022. Filming took place primarily at Warner Bros. Studios, Leavesden, in England and on the Venice Beach Skatepark in Los Angeles from March to July 2022.\\nBarbie premiered at the Shrine Auditorium in Los Angeles on July 9, 2023, and was theatrically released in the United States on July 21 by Warner Bros. Pictures. Its simultaneous release with Universal\\'s Oppenheimer led to the \"Barbenheimer\" cultural phenomenon, which encouraged audiences to see both films as a double feature. The film received critical acclaim and has grossed $1.279 billion worldwide, becoming the second highest-grossing film of 2023, as well as the highest-grossing film directed solely by a woman and the 21st highest-grossing film of all-time.', 'source': 'https://en.wikipedia.org/wiki/Barbie_(film)'})])]}"
      ]
     },
     "execution_count": 37,
     "metadata": {},
     "output_type": "execute_result"
    }
   ],
   "source": [
    "barbie_retriever_agent_executor({\"input\" : \"What is a very quick summary of the plot of the Barbie movie?\"})"
   ]
  },
  {
   "cell_type": "markdown",
   "metadata": {},
   "source": [
    "### Oppenheimer Retrieval System\n",
    "\n",
    "We're going to repourpose some of what we created previously, but this time we'll explore a different multi-source retrieval system."
   ]
  },
  {
   "cell_type": "code",
   "execution_count": 39,
   "metadata": {},
   "outputs": [],
   "source": [
    "oppenheimer_wikipedia_docs = WikipediaLoader(query=\"Oppenheimer (film)\", load_max_docs=1, doc_content_chars_max=1_000_000).load()\n",
    "\n",
    "oppenheimer_csv_docs = CSVLoader(file_path=\"./oppenheimer_data/oppenheimer.csv\", source_column=\"Review_Url\").load()"
   ]
  },
  {
   "cell_type": "code",
   "execution_count": 41,
   "metadata": {},
   "outputs": [],
   "source": [
    "chunked_opp_wikipedia_docs = wikipedia_text_splitter.transform_documents(oppenheimer_wikipedia_docs)\n",
    "\n",
    "chunked_opp_csv_docs = csv_text_splitter.transform_documents(oppenheimer_csv_docs)"
   ]
  },
  {
   "cell_type": "code",
   "execution_count": 42,
   "metadata": {},
   "outputs": [],
   "source": [
    "opp_csv_faiss_retriever = FAISS.from_documents(chunked_opp_csv_docs, embedder).as_retriever()\n",
    "\n",
    "# set up BM25 retriever\n",
    "opp_wikipedia_bm25_retriever = BM25Retriever.from_documents(\n",
    "    chunked_opp_wikipedia_docs\n",
    ")\n",
    "\n",
    "opp_wikipedia_bm25_retriever.k = 1\n",
    "\n",
    "# set up FAISS vector store\n",
    "opp_wikipedia_faiss_store = FAISS.from_documents(\n",
    "    chunked_opp_wikipedia_docs, embedder\n",
    ")\n",
    "\n",
    "opp_wikipedia_faiss_retriever = opp_wikipedia_faiss_store.as_retriever(search_kwargs={\"k\": 1})\n",
    "\n",
    "# set up ensemble retriever\n",
    "opp_ensemble_retriever = EnsembleRetriever(\n",
    "    retrievers=[opp_wikipedia_bm25_retriever, opp_wikipedia_faiss_retriever],\n",
    "    weights=[0.25, 0.75] # should sum to 1\n",
    ")"
   ]
  },
  {
   "cell_type": "markdown",
   "metadata": {},
   "source": [
    "#### Multi-source chain\n",
    "\n",
    "We're going to allow the LLM to decide which information is most -> least valuable.\n",
    "\n",
    "The way we'll do this is with LangChain's rather powerful \"Expression Language\"!\n",
    "\n",
    "> HINT: You can leverage [this](https://python.langchain.com/docs/use_cases/question_answering/how_to/multiple_retrieval) resource if you get stuck - but experiment with different prompts/formats."
   ]
  },
  {
   "cell_type": "code",
   "execution_count": 43,
   "metadata": {},
   "outputs": [],
   "source": [
    "from langchain.prompts import ChatPromptTemplate\n",
    "\n",
    "system_message = \"\"\"Use the information from the below two sources to answer any questions.\n",
    "\n",
    "Source 1: public user reviews about the Oppenheimer movie\n",
    "<source1>\n",
    "{source1}\n",
    "</source1>\n",
    "\n",
    "Source 2: the wikipedia page for the Oppenheimer movie including the plot summary, cast, and production information\n",
    "<source2>\n",
    "{source2}\n",
    "</source2>\n",
    "\"\"\"\n",
    "\n",
    "prompt = ChatPromptTemplate.from_messages([(\"system\", system_message), (\"human\", \"{question}\")])"
   ]
  },
  {
   "cell_type": "code",
   "execution_count": 44,
   "metadata": {},
   "outputs": [],
   "source": [
    "oppenheimer_multisource_chain = {\n",
    "    \"source1\": (lambda x: x[\"question\"]) | opp_ensemble_retriever,\n",
    "    \"source2\": (lambda x: x[\"question\"]) | opp_csv_faiss_retriever,\n",
    "    \"question\": lambda x: x[\"question\"],\n",
    "} | prompt | llm"
   ]
  },
  {
   "cell_type": "code",
   "execution_count": 45,
   "metadata": {},
   "outputs": [
    {
     "data": {
      "text/plain": [
       "AIMessage(content=\"People generally thought highly of the Oppenheimer movie. Critics praised the screenplay, performances of the cast (especially Cillian Murphy and Robert Downey Jr.), and the visuals. It was frequently cited as one of the best films of 2023. On the review aggregator website Rotten Tomatoes, 93% of 451 critics' reviews were positive, with an average rating of 8.6/10. The movie received critical acclaim, with particular praise for the cast performances, screenplay, and visuals. However, some criticism was aimed at the writing of the female characters. Overall, the movie was considered compelling, engaging, and simple to understand, and it sparked an interest in knowing more about history.\", additional_kwargs={}, example=False)"
      ]
     },
     "execution_count": 45,
     "metadata": {},
     "output_type": "execute_result"
    }
   ],
   "source": [
    "oppenheimer_multisource_chain.invoke({\"question\" : \"What did people think of the Oppenheimer movie?\"})"
   ]
  },
  {
   "cell_type": "markdown",
   "metadata": {},
   "source": [
    "# Agent Creation\n",
    "\n",
    "Now we can finally start building our Agent!\n",
    "\n",
    "The first thing we'll need to do is provide our Agent a Toolbelt. (list of tools). Much like Batman, our LLM-powered Agent can use these tools as it sees fit. \n",
    "\n",
    "While the examples we're constructing in this notebook are straightforward for brevity and simplicities sake - there is no limit to what you can build with Agents, as we'll see as we progress through the program.\n",
    "\n",
    "So, let's begin by setting up our Tools!\n",
    "\n",
    "You'll notice that we have to set up a function to allow our `OppenheimerInfo` tool to interface with the Agent - this is due to it have a specific required input. Creating custom tools is a pattern that you'll want to grow acustomed to as you use LangChain more and more."
   ]
  },
  {
   "cell_type": "code",
   "execution_count": 47,
   "metadata": {},
   "outputs": [],
   "source": [
    "from langchain.agents import Tool\n",
    "\n",
    "def query_oppenheimer(input):\n",
    "    return oppenheimer_multisource_chain.invoke({\"question\" : input})\n",
    "\n",
    "\n",
    "tools = [\n",
    "    Tool(\n",
    "        name = \"BarbieInfo\",\n",
    "        func=barbie_retriever_agent_executor.invoke,\n",
    "        description=\"This resource is beneficial for responding to inquiries related to Barbie.\"\n",
    "    ),\n",
    "    Tool(\n",
    "        name = \"OppenheimerInfo\",\n",
    "        func=query_oppenheimer,\n",
    "        description=\"This resource is beneficial for responding to inquiries related to Oppenheimer (Film) movie.\"\n",
    "    ),\n",
    "]"
   ]
  },
  {
   "cell_type": "markdown",
   "metadata": {},
   "source": [
    "Now that we've set up our Agents toolbelt, let's set up the LLM that will be powering it!\n",
    "\n",
    "I would suggest playing around with these prompts - and experiments to find what works best for you.\n",
    "\n",
    "RELEVANT DOCS:\n",
    "- [`ZeroShotAgent`](https://api.python.langchain.com/en/latest/agents/langchain.agents.mrkl.base.ZeroShotAgent.html#langchain-agents-mrkl-base-zeroshotagent)"
   ]
  },
  {
   "cell_type": "code",
   "execution_count": 48,
   "metadata": {},
   "outputs": [],
   "source": [
    "from langchain.agents import ZeroShotAgent, AgentExecutor\n",
    "\n",
    "prefix = \"\"\"Have a conversation with a human, answering the following questions as best you can. You have access to the following tools:\"\"\"\n",
    "suffix = \"\"\"Begin!\"\n",
    "\n",
    "Question: {input}\n",
    "{agent_scratchpad}\"\"\"\n",
    "\n",
    "prompt = ZeroShotAgent.create_prompt(\n",
    "    tools, \n",
    "    prefix=prefix, \n",
    "    suffix=suffix, \n",
    "    input_variables=[\"input\", \"agent_scratchpad\"]\n",
    ")"
   ]
  },
  {
   "cell_type": "code",
   "execution_count": 49,
   "metadata": {},
   "outputs": [],
   "source": [
    "from langchain import LLMChain\n",
    "\n",
    "llm_chain = LLMChain(llm=llm, prompt=prompt)"
   ]
  },
  {
   "cell_type": "markdown",
   "metadata": {},
   "source": [
    "All that's left to do now is create our `ZeroShotAgent` and our `AgentExecutor`, which are the \"reasoner\" and \"actor\" halfs of the `ReAct` method of Agent implementation.\n",
    "\n",
    "Read all about the `ReAct` framework [here](https://react-lm.github.io/)"
   ]
  },
  {
   "cell_type": "code",
   "execution_count": 50,
   "metadata": {},
   "outputs": [],
   "source": [
    "barbenheimer_agent = ZeroShotAgent(\n",
    "    llm_chain=llm_chain, \n",
    "    tools=tools, \n",
    "    verbose=True)\n",
    "\n",
    "barbenheimer_agent_chain = AgentExecutor.from_agent_and_tools(\n",
    "    agent=barbenheimer_agent, \n",
    "    tools=tools, \n",
    "    verbose=True)\n"
   ]
  },
  {
   "cell_type": "markdown",
   "metadata": {},
   "source": [
    "## Conclusion\n",
    "\n",
    "All that is left to do now, is feed inputs to your Agent and watch it work!\n",
    "\n",
    "Remember to use the `{\"input\" : \"YOUR QUERY HERE\"}` format when prompting the Agent."
   ]
  },
  {
   "cell_type": "code",
   "execution_count": 51,
   "metadata": {},
   "outputs": [
    {
     "name": "stdout",
     "output_type": "stream",
     "text": [
      "\n",
      "\n",
      "\u001b[1m> Entering new AgentExecutor chain...\u001b[0m\n",
      "\u001b[32;1m\u001b[1;3mThought: This question is related to the Barbie movie, so I should use the BarbieInfo tool to find the answer.\n",
      "Action: BarbieInfo\n",
      "Action Input: What people liked about the Barbie movie\u001b[0m\n",
      "\n",
      "\u001b[1m> Entering new AgentExecutor chain...\u001b[0m\n",
      "\u001b[32;1m\u001b[1;3m\n",
      "Invoking: `PublicReviews` with `Barbie movie`\n",
      "\n",
      "\n",
      "\u001b[0m\u001b[33;1m\u001b[1;3m[Document(page_content=\"Review: The big summer blockbuster of 2023 is a wonderful visual spectacle with a great deal of creative physical comedy, centered in and around the universe of Barbie, Mattel's historic toy doll. Unfortunately, the film tries to be and do much more than what the filmmakers ultimately are able to control and reel in. That a movie about Barbie would be guilty of Americanization is no surprise, and in many ways more than befitting, but the Americanization here isn't just about the history of the toy itself and all its cultural impacts - Barbie also views everything through the eyes of Hollywood anno 2023 - which arguably is a very particular and perhaps not that representative outlook. Instead of utilizing the fine foundation laid in the film's first third, director and co-writer Greta Gervig (Lady Bird, Little Women) gets herself lost in a trite, divisive and most likely futile battle of the sexes, which will leave youths - and perhaps particularly Europeans - feeling confused and\", metadata={'source': '/review/rw9199947/?ref_=tt_urv', 'row': 116}), Document(page_content=': 53\\nReview_Date: 29 July 2023\\nAuthor: planktonrules\\nRating: 6\\nReview_Title: Good...not great\\nReview: \"Barbie\" is a movie that is setting all sorts of records, so it\\'s obvious that the film is touching many people. For some, it\\'s the fun of seeing a doll come to life, for others it\\'s the theme of empowerment that make the movie a big hit. As for me, I did like it and thought it was a pretty good movie...but it\\'s not for everyone.\\nReview_Url: /review/rw9199947/?ref_=tt_urv', metadata={'source': '/review/rw9199947/?ref_=tt_urv', 'row': 53}), Document(page_content=': 97\\nReview_Date: 21 July 2023\\nAuthor: MrDHWong\\nRating: 9\\nReview_Title: A darkly satirical look at gender structure in society\\nReview: \"Barbie\" is a comedy film based on the line of fashion dolls by Mattel. Directed and co-written by Greta Gerwig (\"Lady Bird\", \"Little Women\") and starring Margot Robbie and Ryan Gosling, it takes every opportunity to revel in its amusing premise with a darkly satirical look at gender structure in society.\\nReview_Url: /review/rw9199947/?ref_=tt_urv', metadata={'source': '/review/rw9199947/?ref_=tt_urv', 'row': 97}), Document(page_content=\": 104\\nReview_Date: 22 July 2023\\nAuthor: No-Life-101\\nRating: 8\\nReview_Title: Barbie has an existential crisis\\nReview: Barbie is a really fun movie that all ages can enjoy because while it's colourful and entertaining the main storyline can get emotional at times. The comedy in the movie is pretty funny too and got a few laughs from everyone in the cinema, the music is really nice and so are the choreographed dances. What I liked the most about this movie is that it was very doll-like, the food and drink were plastic and fake, the cars didn't have engines and just glided along the floor, and the actors were doll-like in their movements and how they interacted with their environment.\\nReview_Url: /review/rw9199947/?ref_=tt_urv\", metadata={'source': '/review/rw9199947/?ref_=tt_urv', 'row': 104})]\u001b[0m\u001b[32;1m\u001b[1;3mPeople liked several aspects of the Barbie movie. Here are some of the positive points mentioned in the public reviews:\n",
      "\n",
      "1. Visual Spectacle: The movie is praised for its wonderful visual spectacle and creative physical comedy.\n",
      "\n",
      "2. Empowerment Theme: Some viewers appreciated the theme of empowerment portrayed in the movie, which resonated with them and made it a big hit.\n",
      "\n",
      "3. Dark Satire: The film is described as taking every opportunity to revel in its amusing premise and providing a darkly satirical look at gender structure in society.\n",
      "\n",
      "4. Emotional Storyline: The main storyline of the movie is said to be emotional at times, which resonated with the audience and added depth to the film.\n",
      "\n",
      "5. Doll-like Aesthetic: The movie is commended for its doll-like aesthetic, with plastic and fake food and drink, gliding cars, and actors portraying doll-like movements and interactions with the environment.\n",
      "\n",
      "Overall, the Barbie movie received positive feedback for its visual appeal, empowering themes, satirical approach, emotional moments, and doll-like aesthetic.\u001b[0m\n",
      "\n",
      "\u001b[1m> Finished chain.\u001b[0m\n",
      "\n",
      "Observation: \u001b[36;1m\u001b[1;3m{'input': 'What people liked about the Barbie movie', 'chat_history': [AIMessage(content=\"The Barbie movie is a 2023 American fantasy comedy film directed by Greta Gerwig. It is the first live-action Barbie film based on the Barbie fashion dolls by Mattel. The movie follows Barbie (played by Margot Robbie) and Ken (played by Ryan Gosling) on a journey of self-discovery following an existential crisis. The film features an ensemble supporting cast, including America Ferrera, Kate McKinnon, Helen Mirren, Issa Rae, Simu Liu, Michael Cera, Rhea Perlman, and Will Ferrell. The plot revolves around Barbie and Ken's exploration of their identities and purpose in the fictional world of Barbieland. The movie received critical acclaim and became one of the highest-grossing films of 2023.\", additional_kwargs={}, example=False), HumanMessage(content='What people liked about the Barbie movie', additional_kwargs={}, example=False), AIMessage(content='', additional_kwargs={'function_call': {'name': 'PublicReviews', 'arguments': '{\\n  \"__arg1\": \"Barbie movie\"\\n}'}}, example=False), FunctionMessage(content='[Document(page_content=\"Review: The big summer blockbuster of 2023 is a wonderful visual spectacle with a great deal of creative physical comedy, centered in and around the universe of Barbie, Mattel\\'s historic toy doll. Unfortunately, the film tries to be and do much more than what the filmmakers ultimately are able to control and reel in. That a movie about Barbie would be guilty of Americanization is no surprise, and in many ways more than befitting, but the Americanization here isn\\'t just about the history of the toy itself and all its cultural impacts - Barbie also views everything through the eyes of Hollywood anno 2023 - which arguably is a very particular and perhaps not that representative outlook. Instead of utilizing the fine foundation laid in the film\\'s first third, director and co-writer Greta Gervig (Lady Bird, Little Women) gets herself lost in a trite, divisive and most likely futile battle of the sexes, which will leave youths - and perhaps particularly Europeans - feeling confused and\", metadata={\\'source\\': \\'/review/rw9199947/?ref_=tt_urv\\', \\'row\\': 116}), Document(page_content=\\': 53\\\\nReview_Date: 29 July 2023\\\\nAuthor: planktonrules\\\\nRating: 6\\\\nReview_Title: Good...not great\\\\nReview: \"Barbie\" is a movie that is setting all sorts of records, so it\\\\\\'s obvious that the film is touching many people. For some, it\\\\\\'s the fun of seeing a doll come to life, for others it\\\\\\'s the theme of empowerment that make the movie a big hit. As for me, I did like it and thought it was a pretty good movie...but it\\\\\\'s not for everyone.\\\\nReview_Url: /review/rw9199947/?ref_=tt_urv\\', metadata={\\'source\\': \\'/review/rw9199947/?ref_=tt_urv\\', \\'row\\': 53}), Document(page_content=\\': 97\\\\nReview_Date: 21 July 2023\\\\nAuthor: MrDHWong\\\\nRating: 9\\\\nReview_Title: A darkly satirical look at gender structure in society\\\\nReview: \"Barbie\" is a comedy film based on the line of fashion dolls by Mattel. Directed and co-written by Greta Gerwig (\"Lady Bird\", \"Little Women\") and starring Margot Robbie and Ryan Gosling, it takes every opportunity to revel in its amusing premise with a darkly satirical look at gender structure in society.\\\\nReview_Url: /review/rw9199947/?ref_=tt_urv\\', metadata={\\'source\\': \\'/review/rw9199947/?ref_=tt_urv\\', \\'row\\': 97}), Document(page_content=\": 104\\\\nReview_Date: 22 July 2023\\\\nAuthor: No-Life-101\\\\nRating: 8\\\\nReview_Title: Barbie has an existential crisis\\\\nReview: Barbie is a really fun movie that all ages can enjoy because while it\\'s colourful and entertaining the main storyline can get emotional at times. The comedy in the movie is pretty funny too and got a few laughs from everyone in the cinema, the music is really nice and so are the choreographed dances. What I liked the most about this movie is that it was very doll-like, the food and drink were plastic and fake, the cars didn\\'t have engines and just glided along the floor, and the actors were doll-like in their movements and how they interacted with their environment.\\\\nReview_Url: /review/rw9199947/?ref_=tt_urv\", metadata={\\'source\\': \\'/review/rw9199947/?ref_=tt_urv\\', \\'row\\': 104})]', additional_kwargs={}, name='PublicReviews'), AIMessage(content='People liked several aspects of the Barbie movie. Here are some of the positive points mentioned in the public reviews:\\n\\n1. Visual Spectacle: The movie is praised for its wonderful visual spectacle and creative physical comedy.\\n\\n2. Empowerment Theme: Some viewers appreciated the theme of empowerment portrayed in the movie, which resonated with them and made it a big hit.\\n\\n3. Dark Satire: The film is described as taking every opportunity to revel in its amusing premise and providing a darkly satirical look at gender structure in society.\\n\\n4. Emotional Storyline: The main storyline of the movie is said to be emotional at times, which resonated with the audience and added depth to the film.\\n\\n5. Doll-like Aesthetic: The movie is commended for its doll-like aesthetic, with plastic and fake food and drink, gliding cars, and actors portraying doll-like movements and interactions with the environment.\\n\\nOverall, the Barbie movie received positive feedback for its visual appeal, empowering themes, satirical approach, emotional moments, and doll-like aesthetic.', additional_kwargs={}, example=False)], 'output': 'People liked several aspects of the Barbie movie. Here are some of the positive points mentioned in the public reviews:\\n\\n1. Visual Spectacle: The movie is praised for its wonderful visual spectacle and creative physical comedy.\\n\\n2. Empowerment Theme: Some viewers appreciated the theme of empowerment portrayed in the movie, which resonated with them and made it a big hit.\\n\\n3. Dark Satire: The film is described as taking every opportunity to revel in its amusing premise and providing a darkly satirical look at gender structure in society.\\n\\n4. Emotional Storyline: The main storyline of the movie is said to be emotional at times, which resonated with the audience and added depth to the film.\\n\\n5. Doll-like Aesthetic: The movie is commended for its doll-like aesthetic, with plastic and fake food and drink, gliding cars, and actors portraying doll-like movements and interactions with the environment.\\n\\nOverall, the Barbie movie received positive feedback for its visual appeal, empowering themes, satirical approach, emotional moments, and doll-like aesthetic.', 'intermediate_steps': [(_FunctionsAgentAction(tool='PublicReviews', tool_input='Barbie movie', log='\\nInvoking: `PublicReviews` with `Barbie movie`\\n\\n\\n', message_log=[AIMessage(content='', additional_kwargs={'function_call': {'name': 'PublicReviews', 'arguments': '{\\n  \"__arg1\": \"Barbie movie\"\\n}'}}, example=False)]), [Document(page_content=\"Review: The big summer blockbuster of 2023 is a wonderful visual spectacle with a great deal of creative physical comedy, centered in and around the universe of Barbie, Mattel's historic toy doll. Unfortunately, the film tries to be and do much more than what the filmmakers ultimately are able to control and reel in. That a movie about Barbie would be guilty of Americanization is no surprise, and in many ways more than befitting, but the Americanization here isn't just about the history of the toy itself and all its cultural impacts - Barbie also views everything through the eyes of Hollywood anno 2023 - which arguably is a very particular and perhaps not that representative outlook. Instead of utilizing the fine foundation laid in the film's first third, director and co-writer Greta Gervig (Lady Bird, Little Women) gets herself lost in a trite, divisive and most likely futile battle of the sexes, which will leave youths - and perhaps particularly Europeans - feeling confused and\", metadata={'source': '/review/rw9199947/?ref_=tt_urv', 'row': 116}), Document(page_content=': 53\\nReview_Date: 29 July 2023\\nAuthor: planktonrules\\nRating: 6\\nReview_Title: Good...not great\\nReview: \"Barbie\" is a movie that is setting all sorts of records, so it\\'s obvious that the film is touching many people. For some, it\\'s the fun of seeing a doll come to life, for others it\\'s the theme of empowerment that make the movie a big hit. As for me, I did like it and thought it was a pretty good movie...but it\\'s not for everyone.\\nReview_Url: /review/rw9199947/?ref_=tt_urv', metadata={'source': '/review/rw9199947/?ref_=tt_urv', 'row': 53}), Document(page_content=': 97\\nReview_Date: 21 July 2023\\nAuthor: MrDHWong\\nRating: 9\\nReview_Title: A darkly satirical look at gender structure in society\\nReview: \"Barbie\" is a comedy film based on the line of fashion dolls by Mattel. Directed and co-written by Greta Gerwig (\"Lady Bird\", \"Little Women\") and starring Margot Robbie and Ryan Gosling, it takes every opportunity to revel in its amusing premise with a darkly satirical look at gender structure in society.\\nReview_Url: /review/rw9199947/?ref_=tt_urv', metadata={'source': '/review/rw9199947/?ref_=tt_urv', 'row': 97}), Document(page_content=\": 104\\nReview_Date: 22 July 2023\\nAuthor: No-Life-101\\nRating: 8\\nReview_Title: Barbie has an existential crisis\\nReview: Barbie is a really fun movie that all ages can enjoy because while it's colourful and entertaining the main storyline can get emotional at times. The comedy in the movie is pretty funny too and got a few laughs from everyone in the cinema, the music is really nice and so are the choreographed dances. What I liked the most about this movie is that it was very doll-like, the food and drink were plastic and fake, the cars didn't have engines and just glided along the floor, and the actors were doll-like in their movements and how they interacted with their environment.\\nReview_Url: /review/rw9199947/?ref_=tt_urv\", metadata={'source': '/review/rw9199947/?ref_=tt_urv', 'row': 104})])]}\u001b[0m\n"
     ]
    },
    {
     "name": "stdout",
     "output_type": "stream",
     "text": [
      "Thought:\u001b[32;1m\u001b[1;3mBased on the information from the BarbieInfo tool, people liked several aspects of the Barbie movie. Some of the positive points mentioned in the public reviews are:\n",
      "\n",
      "1. Visual Spectacle: The movie is praised for its wonderful visual spectacle and creative physical comedy.\n",
      "2. Empowerment Theme: Some viewers appreciated the theme of empowerment portrayed in the movie, which resonated with them and made it a big hit.\n",
      "3. Dark Satire: The film is described as taking every opportunity to revel in its amusing premise and providing a darkly satirical look at gender structure in society.\n",
      "4. Emotional Storyline: The main storyline of the movie is said to be emotional at times, which resonated with the audience and added depth to the film.\n",
      "5. Doll-like Aesthetic: The movie is commended for its doll-like aesthetic, with plastic and fake food and drink, gliding cars, and actors portraying doll-like movements and interactions with the environment.\n",
      "\n",
      "Overall, the Barbie movie received positive feedback for its visual appeal, empowering themes, satirical approach, emotional moments, and doll-like aesthetic.\n",
      "\n",
      "Final Answer: People liked several aspects of the Barbie movie, including its visual spectacle, empowerment theme, dark satire, emotional storyline, and doll-like aesthetic.\u001b[0m\n",
      "\n",
      "\u001b[1m> Finished chain.\u001b[0m\n"
     ]
    },
    {
     "data": {
      "text/plain": [
       "{'input': 'What did people like about the Barbie movie?',\n",
       " 'output': 'People liked several aspects of the Barbie movie, including its visual spectacle, empowerment theme, dark satire, emotional storyline, and doll-like aesthetic.'}"
      ]
     },
     "execution_count": 51,
     "metadata": {},
     "output_type": "execute_result"
    }
   ],
   "source": [
    "barbenheimer_agent_chain.invoke({\"input\" : \"What did people like about the Barbie movie?\"})"
   ]
  },
  {
   "cell_type": "code",
   "execution_count": 52,
   "metadata": {},
   "outputs": [
    {
     "name": "stdout",
     "output_type": "stream",
     "text": [
      "\n",
      "\n",
      "\u001b[1m> Entering new AgentExecutor chain...\u001b[0m\n",
      "\u001b[32;1m\u001b[1;3mThought: I don't have any information about the Oppenheimer movie.\n",
      "Action: OppenheimerInfo\n",
      "Action Input: \"What did people like about the Oppenheimer movie?\"\u001b[0m\n",
      "Observation: \u001b[33;1m\u001b[1;3mcontent=\"People liked the screenplay, the performances of the cast (particularly those of Murphy and Downey), and the visuals of the Oppenheimer movie. They also praised the accuracy of the film and its ability to make a complicated man's story compelling and engaging. The cinematography was also praised, and viewers enjoyed the three-hour runtime.\" additional_kwargs={} example=False\u001b[0m\n",
      "Thought:\u001b[32;1m\u001b[1;3mI now know the final answer\n",
      "Final Answer: People liked the screenplay, the performances of the cast, the visuals, the accuracy of the film, the cinematography, and the three-hour runtime of the Oppenheimer movie.\u001b[0m\n",
      "\n",
      "\u001b[1m> Finished chain.\u001b[0m\n"
     ]
    },
    {
     "data": {
      "text/plain": [
       "'People liked the screenplay, the performances of the cast, the visuals, the accuracy of the film, the cinematography, and the three-hour runtime of the Oppenheimer movie.'"
      ]
     },
     "execution_count": 52,
     "metadata": {},
     "output_type": "execute_result"
    }
   ],
   "source": [
    "barbenheimer_agent_chain.run({\"input\" : \"What did people like about the Oppenheimer movie?\"})"
   ]
  },
  {
   "cell_type": "code",
   "execution_count": 53,
   "metadata": {},
   "outputs": [
    {
     "name": "stdout",
     "output_type": "stream",
     "text": [
      "\n",
      "\n",
      "\u001b[1m> Entering new AgentExecutor chain...\u001b[0m\n",
      "\u001b[32;1m\u001b[1;3mThought: I need to find information about the themes or ideas in both movies to determine if they are similar.\n",
      "Action: OppenheimerInfo\n",
      "Action Input: Themes or ideas in Oppenheimer (Film) movie\u001b[0m\n",
      "Observation: \u001b[33;1m\u001b[1;3mcontent=\"Based on the information from the sources, some of the themes and ideas explored in the Oppenheimer movie include:\\n\\n1. The ethical implications of scientific discovery: The movie delves into the moral dilemmas faced by J. Robert Oppenheimer and his team as they develop the first nuclear weapons. It raises questions about the responsibility of scientists and the consequences of their creations.\\n\\n2. The internal conflict and psyche of Oppenheimer: The film explores Oppenheimer's personal struggles and the psychological impact of his involvement in the Manhattan Project. It delves into his internal conflicts, personal matters, and the pressure he faced.\\n\\n3. The era of McCarthyism and the Red Scare: The movie touches upon the historical context of the Red Scare and McCarthyism, highlighting the paranoia and shadow that hung over Oppenheimer's life. It examines the impact of these political events on Oppenheimer and the society at large.\\n\\n4. Trust and betrayal: The film raises questions about trust and loyalty, particularly in the context of Oppenheimer's relationships with his colleagues and the government. It explores whether the ones who claim to fight for you are the ones to trust themselves.\\n\\n5. The power and influence of weapons: Oppenheimer examines the influence and power that comes with the creation of such a destructive weapon. It explores the pressure put on Oppenheimer and the ethical considerations surrounding the use of nuclear weapons.\\n\\n6. The human condition: The movie delves into the complexities of humanity, portraying Oppenheimer as both great and terrible. It explores the dual nature of mankind and serves as a warning about the horrors of nuclear conflict.\\n\\nThese themes and ideas contribute to the overall narrative and provide a thought-provoking exploration of Oppenheimer's life and the historical events surrounding the development of nuclear weapons.\" additional_kwargs={} example=False\u001b[0m\n",
      "Thought:\u001b[32;1m\u001b[1;3mI have found information about the themes and ideas in the Oppenheimer movie. Now I need to find information about the themes and ideas in the Barbie movie to compare them.\n",
      "Action: BarbieInfo\n",
      "Action Input: Themes or ideas in Barbie movie\u001b[0m\n",
      "\n",
      "\u001b[1m> Entering new AgentExecutor chain...\u001b[0m\n",
      "\u001b[32;1m\u001b[1;3m\n",
      "Invoking: `Wikipedia` with `Barbie movie`\n",
      "\n",
      "\n",
      "\u001b[0m\u001b[36;1m\u001b[1;3m[Document(page_content='Barbie is a 2023 American fantasy comedy film directed by Greta Gerwig from a screenplay she wrote with Noah Baumbach. Based on the Barbie fashion dolls by Mattel, it is the first live-action Barbie film after numerous computer-animated films and specials. The film follows Barbie (Margot Robbie) and Ken (Ryan Gosling) on a journey of self-discovery following an existential crisis. It features an ensemble supporting cast, including America Ferrera, Kate McKinnon, Helen Mirren, Issa Rae, Simu Liu,', metadata={'title': 'Barbie (film)', 'summary': 'Barbie is a 2023 American fantasy comedy film directed by Greta Gerwig from a screenplay she wrote with Noah Baumbach. Based on the Barbie fashion dolls by Mattel, it is the first live-action Barbie film after numerous computer-animated films and specials. The film follows Barbie (Margot Robbie) and Ken (Ryan Gosling) on a journey of self-discovery following an existential crisis. It features an ensemble supporting cast, including America Ferrera, Kate McKinnon, Helen Mirren, Issa Rae, Simu Liu, Michael Cera, Rhea Perlman, and Will Ferrell.\\nA live-action Barbie film was announced in September 2009 by Universal Pictures with Laurence Mark producing. Development began in April 2014, when Sony Pictures acquired the film rights. Following multiple writer and director changes and the casting of Amy Schumer and later Anne Hathaway as Barbie, the rights were transferred to Warner Bros. Pictures in October 2018. Robbie was cast in 2019, after Gal Gadot turned down the role due to scheduling conflicts, and Gerwig was announced as director and co-writer with Baumbach in 2020. The rest of the cast were announced in early 2022. Filming took place primarily at Warner Bros. Studios, Leavesden, in England and on the Venice Beach Skatepark in Los Angeles from March to July 2022.\\nBarbie premiered at the Shrine Auditorium in Los Angeles on July 9, 2023, and was theatrically released in the United States on July 21 by Warner Bros. Pictures. Its simultaneous release with Universal\\'s Oppenheimer led to the \"Barbenheimer\" cultural phenomenon, which encouraged audiences to see both films as a double feature. The film received critical acclaim and has grossed $1.279 billion worldwide, becoming the second highest-grossing film of 2023, as well as the highest-grossing film directed solely by a woman and the 21st highest-grossing film of all-time.', 'source': 'https://en.wikipedia.org/wiki/Barbie_(film)'}), Document(page_content='fictional Barbieland. While many reviews of the film interpreted this as a critique of the song, director Greta Gerwig said that she was a fan of Matchbox Twenty and \"I never put anything in a movie I don’t love.\"', metadata={'title': 'Barbie (film)', 'summary': 'Barbie is a 2023 American fantasy comedy film directed by Greta Gerwig from a screenplay she wrote with Noah Baumbach. Based on the Barbie fashion dolls by Mattel, it is the first live-action Barbie film after numerous computer-animated films and specials. The film follows Barbie (Margot Robbie) and Ken (Ryan Gosling) on a journey of self-discovery following an existential crisis. It features an ensemble supporting cast, including America Ferrera, Kate McKinnon, Helen Mirren, Issa Rae, Simu Liu, Michael Cera, Rhea Perlman, and Will Ferrell.\\nA live-action Barbie film was announced in September 2009 by Universal Pictures with Laurence Mark producing. Development began in April 2014, when Sony Pictures acquired the film rights. Following multiple writer and director changes and the casting of Amy Schumer and later Anne Hathaway as Barbie, the rights were transferred to Warner Bros. Pictures in October 2018. Robbie was cast in 2019, after Gal Gadot turned down the role due to scheduling conflicts, and Gerwig was announced as director and co-writer with Baumbach in 2020. The rest of the cast were announced in early 2022. Filming took place primarily at Warner Bros. Studios, Leavesden, in England and on the Venice Beach Skatepark in Los Angeles from March to July 2022.\\nBarbie premiered at the Shrine Auditorium in Los Angeles on July 9, 2023, and was theatrically released in the United States on July 21 by Warner Bros. Pictures. Its simultaneous release with Universal\\'s Oppenheimer led to the \"Barbenheimer\" cultural phenomenon, which encouraged audiences to see both films as a double feature. The film received critical acclaim and has grossed $1.279 billion worldwide, becoming the second highest-grossing film of 2023, as well as the highest-grossing film directed solely by a woman and the 21st highest-grossing film of all-time.', 'source': 'https://en.wikipedia.org/wiki/Barbie_(film)'})]\u001b[0m\u001b[32;1m\u001b[1;3mThe Barbie movie explores several themes and ideas. Here are some of them:\n",
      "\n",
      "1. Self-Discovery: The film follows Barbie and Ken on a journey of self-discovery. They navigate an existential crisis and explore their identities and purpose in the fictional world of Barbieland.\n",
      "\n",
      "2. Empowerment: The movie touches on themes of empowerment, highlighting the strength and agency of the characters. This theme resonated with many viewers and contributed to the film's popularity.\n",
      "\n",
      "3. Gender Structure in Society: The Barbie movie takes a satirical look at gender structure in society. It explores and challenges societal norms and expectations related to gender roles.\n",
      "\n",
      "4. Identity and Authenticity: The characters in the film grapple with questions of identity and authenticity. They strive to be true to themselves and find their place in the world.\n",
      "\n",
      "5. Creativity and Imagination: As a film based on the Barbie fashion dolls, the movie celebrates creativity and imagination. It showcases the vibrant and imaginative world of Barbie and encourages viewers to embrace their own creativity.\n",
      "\n",
      "These themes and ideas contribute to the overall narrative and message of the Barbie movie, making it a thought-provoking and entertaining film.\u001b[0m\n",
      "\n",
      "\u001b[1m> Finished chain.\u001b[0m\n",
      "\n",
      "Observation: \u001b[36;1m\u001b[1;3m{'input': 'Themes or ideas in Barbie movie', 'chat_history': [AIMessage(content='People liked several aspects of the Barbie movie. Here are some of the positive points mentioned in the public reviews:\\n\\n1. Visual Spectacle: The movie is praised for its wonderful visual spectacle and creative physical comedy.\\n\\n2. Empowerment Theme: Some viewers appreciated the theme of empowerment portrayed in the movie, which resonated with them and made it a big hit.\\n\\n3. Dark Satire: The film is described as taking every opportunity to revel in its amusing premise and providing a darkly satirical look at gender structure in society.\\n\\n4. Emotional Storyline: The main storyline of the movie is said to be emotional at times, which resonated with the audience and added depth to the film.\\n\\n5. Doll-like Aesthetic: The movie is commended for its doll-like aesthetic, with plastic and fake food and drink, gliding cars, and actors portraying doll-like movements and interactions with the environment.\\n\\nOverall, the Barbie movie received positive feedback for its visual appeal, empowering themes, satirical approach, emotional moments, and doll-like aesthetic.', additional_kwargs={}, example=False), HumanMessage(content='Themes or ideas in Barbie movie', additional_kwargs={}, example=False), AIMessage(content='', additional_kwargs={'function_call': {'name': 'Wikipedia', 'arguments': '{\\n  \"__arg1\": \"Barbie movie\"\\n}'}}, example=False), FunctionMessage(content='[Document(page_content=\\'Barbie is a 2023 American fantasy comedy film directed by Greta Gerwig from a screenplay she wrote with Noah Baumbach. Based on the Barbie fashion dolls by Mattel, it is the first live-action Barbie film after numerous computer-animated films and specials. The film follows Barbie (Margot Robbie) and Ken (Ryan Gosling) on a journey of self-discovery following an existential crisis. It features an ensemble supporting cast, including America Ferrera, Kate McKinnon, Helen Mirren, Issa Rae, Simu Liu,\\', metadata={\\'title\\': \\'Barbie (film)\\', \\'summary\\': \\'Barbie is a 2023 American fantasy comedy film directed by Greta Gerwig from a screenplay she wrote with Noah Baumbach. Based on the Barbie fashion dolls by Mattel, it is the first live-action Barbie film after numerous computer-animated films and specials. The film follows Barbie (Margot Robbie) and Ken (Ryan Gosling) on a journey of self-discovery following an existential crisis. It features an ensemble supporting cast, including America Ferrera, Kate McKinnon, Helen Mirren, Issa Rae, Simu Liu, Michael Cera, Rhea Perlman, and Will Ferrell.\\\\nA live-action Barbie film was announced in September 2009 by Universal Pictures with Laurence Mark producing. Development began in April 2014, when Sony Pictures acquired the film rights. Following multiple writer and director changes and the casting of Amy Schumer and later Anne Hathaway as Barbie, the rights were transferred to Warner Bros. Pictures in October 2018. Robbie was cast in 2019, after Gal Gadot turned down the role due to scheduling conflicts, and Gerwig was announced as director and co-writer with Baumbach in 2020. The rest of the cast were announced in early 2022. Filming took place primarily at Warner Bros. Studios, Leavesden, in England and on the Venice Beach Skatepark in Los Angeles from March to July 2022.\\\\nBarbie premiered at the Shrine Auditorium in Los Angeles on July 9, 2023, and was theatrically released in the United States on July 21 by Warner Bros. Pictures. Its simultaneous release with Universal\\\\\\'s Oppenheimer led to the \"Barbenheimer\" cultural phenomenon, which encouraged audiences to see both films as a double feature. The film received critical acclaim and has grossed $1.279 billion worldwide, becoming the second highest-grossing film of 2023, as well as the highest-grossing film directed solely by a woman and the 21st highest-grossing film of all-time.\\', \\'source\\': \\'https://en.wikipedia.org/wiki/Barbie_(film)\\'}), Document(page_content=\\'fictional Barbieland. While many reviews of the film interpreted this as a critique of the song, director Greta Gerwig said that she was a fan of Matchbox Twenty and \"I never put anything in a movie I don’t love.\"\\', metadata={\\'title\\': \\'Barbie (film)\\', \\'summary\\': \\'Barbie is a 2023 American fantasy comedy film directed by Greta Gerwig from a screenplay she wrote with Noah Baumbach. Based on the Barbie fashion dolls by Mattel, it is the first live-action Barbie film after numerous computer-animated films and specials. The film follows Barbie (Margot Robbie) and Ken (Ryan Gosling) on a journey of self-discovery following an existential crisis. It features an ensemble supporting cast, including America Ferrera, Kate McKinnon, Helen Mirren, Issa Rae, Simu Liu, Michael Cera, Rhea Perlman, and Will Ferrell.\\\\nA live-action Barbie film was announced in September 2009 by Universal Pictures with Laurence Mark producing. Development began in April 2014, when Sony Pictures acquired the film rights. Following multiple writer and director changes and the casting of Amy Schumer and later Anne Hathaway as Barbie, the rights were transferred to Warner Bros. Pictures in October 2018. Robbie was cast in 2019, after Gal Gadot turned down the role due to scheduling conflicts, and Gerwig was announced as director and co-writer with Baumbach in 2020. The rest of the cast were announced in early 2022. Filming took place primarily at Warner Bros. Studios, Leavesden, in England and on the Venice Beach Skatepark in Los Angeles from March to July 2022.\\\\nBarbie premiered at the Shrine Auditorium in Los Angeles on July 9, 2023, and was theatrically released in the United States on July 21 by Warner Bros. Pictures. Its simultaneous release with Universal\\\\\\'s Oppenheimer led to the \"Barbenheimer\" cultural phenomenon, which encouraged audiences to see both films as a double feature. The film received critical acclaim and has grossed $1.279 billion worldwide, becoming the second highest-grossing film of 2023, as well as the highest-grossing film directed solely by a woman and the 21st highest-grossing film of all-time.\\', \\'source\\': \\'https://en.wikipedia.org/wiki/Barbie_(film)\\'})]', additional_kwargs={}, name='Wikipedia'), AIMessage(content=\"The Barbie movie explores several themes and ideas. Here are some of them:\\n\\n1. Self-Discovery: The film follows Barbie and Ken on a journey of self-discovery. They navigate an existential crisis and explore their identities and purpose in the fictional world of Barbieland.\\n\\n2. Empowerment: The movie touches on themes of empowerment, highlighting the strength and agency of the characters. This theme resonated with many viewers and contributed to the film's popularity.\\n\\n3. Gender Structure in Society: The Barbie movie takes a satirical look at gender structure in society. It explores and challenges societal norms and expectations related to gender roles.\\n\\n4. Identity and Authenticity: The characters in the film grapple with questions of identity and authenticity. They strive to be true to themselves and find their place in the world.\\n\\n5. Creativity and Imagination: As a film based on the Barbie fashion dolls, the movie celebrates creativity and imagination. It showcases the vibrant and imaginative world of Barbie and encourages viewers to embrace their own creativity.\\n\\nThese themes and ideas contribute to the overall narrative and message of the Barbie movie, making it a thought-provoking and entertaining film.\", additional_kwargs={}, example=False)], 'output': \"The Barbie movie explores several themes and ideas. Here are some of them:\\n\\n1. Self-Discovery: The film follows Barbie and Ken on a journey of self-discovery. They navigate an existential crisis and explore their identities and purpose in the fictional world of Barbieland.\\n\\n2. Empowerment: The movie touches on themes of empowerment, highlighting the strength and agency of the characters. This theme resonated with many viewers and contributed to the film's popularity.\\n\\n3. Gender Structure in Society: The Barbie movie takes a satirical look at gender structure in society. It explores and challenges societal norms and expectations related to gender roles.\\n\\n4. Identity and Authenticity: The characters in the film grapple with questions of identity and authenticity. They strive to be true to themselves and find their place in the world.\\n\\n5. Creativity and Imagination: As a film based on the Barbie fashion dolls, the movie celebrates creativity and imagination. It showcases the vibrant and imaginative world of Barbie and encourages viewers to embrace their own creativity.\\n\\nThese themes and ideas contribute to the overall narrative and message of the Barbie movie, making it a thought-provoking and entertaining film.\", 'intermediate_steps': [(_FunctionsAgentAction(tool='Wikipedia', tool_input='Barbie movie', log='\\nInvoking: `Wikipedia` with `Barbie movie`\\n\\n\\n', message_log=[AIMessage(content='', additional_kwargs={'function_call': {'name': 'Wikipedia', 'arguments': '{\\n  \"__arg1\": \"Barbie movie\"\\n}'}}, example=False)]), [Document(page_content='Barbie is a 2023 American fantasy comedy film directed by Greta Gerwig from a screenplay she wrote with Noah Baumbach. Based on the Barbie fashion dolls by Mattel, it is the first live-action Barbie film after numerous computer-animated films and specials. The film follows Barbie (Margot Robbie) and Ken (Ryan Gosling) on a journey of self-discovery following an existential crisis. It features an ensemble supporting cast, including America Ferrera, Kate McKinnon, Helen Mirren, Issa Rae, Simu Liu,', metadata={'title': 'Barbie (film)', 'summary': 'Barbie is a 2023 American fantasy comedy film directed by Greta Gerwig from a screenplay she wrote with Noah Baumbach. Based on the Barbie fashion dolls by Mattel, it is the first live-action Barbie film after numerous computer-animated films and specials. The film follows Barbie (Margot Robbie) and Ken (Ryan Gosling) on a journey of self-discovery following an existential crisis. It features an ensemble supporting cast, including America Ferrera, Kate McKinnon, Helen Mirren, Issa Rae, Simu Liu, Michael Cera, Rhea Perlman, and Will Ferrell.\\nA live-action Barbie film was announced in September 2009 by Universal Pictures with Laurence Mark producing. Development began in April 2014, when Sony Pictures acquired the film rights. Following multiple writer and director changes and the casting of Amy Schumer and later Anne Hathaway as Barbie, the rights were transferred to Warner Bros. Pictures in October 2018. Robbie was cast in 2019, after Gal Gadot turned down the role due to scheduling conflicts, and Gerwig was announced as director and co-writer with Baumbach in 2020. The rest of the cast were announced in early 2022. Filming took place primarily at Warner Bros. Studios, Leavesden, in England and on the Venice Beach Skatepark in Los Angeles from March to July 2022.\\nBarbie premiered at the Shrine Auditorium in Los Angeles on July 9, 2023, and was theatrically released in the United States on July 21 by Warner Bros. Pictures. Its simultaneous release with Universal\\'s Oppenheimer led to the \"Barbenheimer\" cultural phenomenon, which encouraged audiences to see both films as a double feature. The film received critical acclaim and has grossed $1.279 billion worldwide, becoming the second highest-grossing film of 2023, as well as the highest-grossing film directed solely by a woman and the 21st highest-grossing film of all-time.', 'source': 'https://en.wikipedia.org/wiki/Barbie_(film)'}), Document(page_content='fictional Barbieland. While many reviews of the film interpreted this as a critique of the song, director Greta Gerwig said that she was a fan of Matchbox Twenty and \"I never put anything in a movie I don’t love.\"', metadata={'title': 'Barbie (film)', 'summary': 'Barbie is a 2023 American fantasy comedy film directed by Greta Gerwig from a screenplay she wrote with Noah Baumbach. Based on the Barbie fashion dolls by Mattel, it is the first live-action Barbie film after numerous computer-animated films and specials. The film follows Barbie (Margot Robbie) and Ken (Ryan Gosling) on a journey of self-discovery following an existential crisis. It features an ensemble supporting cast, including America Ferrera, Kate McKinnon, Helen Mirren, Issa Rae, Simu Liu, Michael Cera, Rhea Perlman, and Will Ferrell.\\nA live-action Barbie film was announced in September 2009 by Universal Pictures with Laurence Mark producing. Development began in April 2014, when Sony Pictures acquired the film rights. Following multiple writer and director changes and the casting of Amy Schumer and later Anne Hathaway as Barbie, the rights were transferred to Warner Bros. Pictures in October 2018. Robbie was cast in 2019, after Gal Gadot turned down the role due to scheduling conflicts, and Gerwig was announced as director and co-writer with Baumbach in 2020. The rest of the cast were announced in early 2022. Filming took place primarily at Warner Bros. Studios, Leavesden, in England and on the Venice Beach Skatepark in Los Angeles from March to July 2022.\\nBarbie premiered at the Shrine Auditorium in Los Angeles on July 9, 2023, and was theatrically released in the United States on July 21 by Warner Bros. Pictures. Its simultaneous release with Universal\\'s Oppenheimer led to the \"Barbenheimer\" cultural phenomenon, which encouraged audiences to see both films as a double feature. The film received critical acclaim and has grossed $1.279 billion worldwide, becoming the second highest-grossing film of 2023, as well as the highest-grossing film directed solely by a woman and the 21st highest-grossing film of all-time.', 'source': 'https://en.wikipedia.org/wiki/Barbie_(film)'})])]}\u001b[0m\n"
     ]
    },
    {
     "name": "stdout",
     "output_type": "stream",
     "text": [
      "Thought:\u001b[32;1m\u001b[1;3mI have found information about the themes and ideas in both the Oppenheimer movie and the Barbie movie. Now I can compare them to determine if they share similar themes or ideas.\n",
      "Action: Comparison\n",
      "Action Input: Themes and ideas in Oppenheimer (Film) movie, Themes and ideas in Barbie movie\u001b[0m\n",
      "Observation: Comparison is not a valid tool, try one of [BarbieInfo, OppenheimerInfo].\n",
      "Thought:\u001b[32;1m\u001b[1;3mI need to use a different tool to compare the themes and ideas in both movies. Let me try using the BarbieInfo tool again.\n",
      "Action: BarbieInfo\n",
      "Action Input: Themes or ideas in Barbie movie\u001b[0m\n",
      "\n",
      "\u001b[1m> Entering new AgentExecutor chain...\u001b[0m\n",
      "\u001b[32;1m\u001b[1;3mI apologize for the confusion, but I couldn't find specific information about the themes or ideas in the Barbie movie. However, Barbie movies often explore themes of friendship, adventure, self-acceptance, and the importance of being true to oneself. These movies often promote positive values and teach valuable life lessons to young audiences.\u001b[0m\n",
      "\n",
      "\u001b[1m> Finished chain.\u001b[0m\n",
      "\n",
      "Observation: \u001b[36;1m\u001b[1;3m{'input': 'Themes or ideas in Barbie movie', 'chat_history': [AIMessage(content='People liked several aspects of the Barbie movie. Here are some of the positive points mentioned in the public reviews:\\n\\n1. Visual Spectacle: The movie is praised for its wonderful visual spectacle and creative physical comedy.\\n\\n2. Empowerment Theme: Some viewers appreciated the theme of empowerment portrayed in the movie, which resonated with them and made it a big hit.\\n\\n3. Dark Satire: The film is described as taking every opportunity to revel in its amusing premise and providing a darkly satirical look at gender structure in society.\\n\\n4. Emotional Storyline: The main storyline of the movie is said to be emotional at times, which resonated with the audience and added depth to the film.\\n\\n5. Doll-like Aesthetic: The movie is commended for its doll-like aesthetic, with plastic and fake food and drink, gliding cars, and actors portraying doll-like movements and interactions with the environment.\\n\\nOverall, the Barbie movie received positive feedback for its visual appeal, empowering themes, satirical approach, emotional moments, and doll-like aesthetic.', additional_kwargs={}, example=False), HumanMessage(content='Themes or ideas in Barbie movie', additional_kwargs={}, example=False), AIMessage(content='', additional_kwargs={'function_call': {'name': 'Wikipedia', 'arguments': '{\\n  \"__arg1\": \"Barbie movie\"\\n}'}}, example=False), FunctionMessage(content='[Document(page_content=\\'Barbie is a 2023 American fantasy comedy film directed by Greta Gerwig from a screenplay she wrote with Noah Baumbach. Based on the Barbie fashion dolls by Mattel, it is the first live-action Barbie film after numerous computer-animated films and specials. The film follows Barbie (Margot Robbie) and Ken (Ryan Gosling) on a journey of self-discovery following an existential crisis. It features an ensemble supporting cast, including America Ferrera, Kate McKinnon, Helen Mirren, Issa Rae, Simu Liu,\\', metadata={\\'title\\': \\'Barbie (film)\\', \\'summary\\': \\'Barbie is a 2023 American fantasy comedy film directed by Greta Gerwig from a screenplay she wrote with Noah Baumbach. Based on the Barbie fashion dolls by Mattel, it is the first live-action Barbie film after numerous computer-animated films and specials. The film follows Barbie (Margot Robbie) and Ken (Ryan Gosling) on a journey of self-discovery following an existential crisis. It features an ensemble supporting cast, including America Ferrera, Kate McKinnon, Helen Mirren, Issa Rae, Simu Liu, Michael Cera, Rhea Perlman, and Will Ferrell.\\\\nA live-action Barbie film was announced in September 2009 by Universal Pictures with Laurence Mark producing. Development began in April 2014, when Sony Pictures acquired the film rights. Following multiple writer and director changes and the casting of Amy Schumer and later Anne Hathaway as Barbie, the rights were transferred to Warner Bros. Pictures in October 2018. Robbie was cast in 2019, after Gal Gadot turned down the role due to scheduling conflicts, and Gerwig was announced as director and co-writer with Baumbach in 2020. The rest of the cast were announced in early 2022. Filming took place primarily at Warner Bros. Studios, Leavesden, in England and on the Venice Beach Skatepark in Los Angeles from March to July 2022.\\\\nBarbie premiered at the Shrine Auditorium in Los Angeles on July 9, 2023, and was theatrically released in the United States on July 21 by Warner Bros. Pictures. Its simultaneous release with Universal\\\\\\'s Oppenheimer led to the \"Barbenheimer\" cultural phenomenon, which encouraged audiences to see both films as a double feature. The film received critical acclaim and has grossed $1.279 billion worldwide, becoming the second highest-grossing film of 2023, as well as the highest-grossing film directed solely by a woman and the 21st highest-grossing film of all-time.\\', \\'source\\': \\'https://en.wikipedia.org/wiki/Barbie_(film)\\'}), Document(page_content=\\'fictional Barbieland. While many reviews of the film interpreted this as a critique of the song, director Greta Gerwig said that she was a fan of Matchbox Twenty and \"I never put anything in a movie I don’t love.\"\\', metadata={\\'title\\': \\'Barbie (film)\\', \\'summary\\': \\'Barbie is a 2023 American fantasy comedy film directed by Greta Gerwig from a screenplay she wrote with Noah Baumbach. Based on the Barbie fashion dolls by Mattel, it is the first live-action Barbie film after numerous computer-animated films and specials. The film follows Barbie (Margot Robbie) and Ken (Ryan Gosling) on a journey of self-discovery following an existential crisis. It features an ensemble supporting cast, including America Ferrera, Kate McKinnon, Helen Mirren, Issa Rae, Simu Liu, Michael Cera, Rhea Perlman, and Will Ferrell.\\\\nA live-action Barbie film was announced in September 2009 by Universal Pictures with Laurence Mark producing. Development began in April 2014, when Sony Pictures acquired the film rights. Following multiple writer and director changes and the casting of Amy Schumer and later Anne Hathaway as Barbie, the rights were transferred to Warner Bros. Pictures in October 2018. Robbie was cast in 2019, after Gal Gadot turned down the role due to scheduling conflicts, and Gerwig was announced as director and co-writer with Baumbach in 2020. The rest of the cast were announced in early 2022. Filming took place primarily at Warner Bros. Studios, Leavesden, in England and on the Venice Beach Skatepark in Los Angeles from March to July 2022.\\\\nBarbie premiered at the Shrine Auditorium in Los Angeles on July 9, 2023, and was theatrically released in the United States on July 21 by Warner Bros. Pictures. Its simultaneous release with Universal\\\\\\'s Oppenheimer led to the \"Barbenheimer\" cultural phenomenon, which encouraged audiences to see both films as a double feature. The film received critical acclaim and has grossed $1.279 billion worldwide, becoming the second highest-grossing film of 2023, as well as the highest-grossing film directed solely by a woman and the 21st highest-grossing film of all-time.\\', \\'source\\': \\'https://en.wikipedia.org/wiki/Barbie_(film)\\'})]', additional_kwargs={}, name='Wikipedia'), AIMessage(content=\"The Barbie movie explores several themes and ideas. Here are some of them:\\n\\n1. Self-Discovery: The film follows Barbie and Ken on a journey of self-discovery. They navigate an existential crisis and explore their identities and purpose in the fictional world of Barbieland.\\n\\n2. Empowerment: The movie touches on themes of empowerment, highlighting the strength and agency of the characters. This theme resonated with many viewers and contributed to the film's popularity.\\n\\n3. Gender Structure in Society: The Barbie movie takes a satirical look at gender structure in society. It explores and challenges societal norms and expectations related to gender roles.\\n\\n4. Identity and Authenticity: The characters in the film grapple with questions of identity and authenticity. They strive to be true to themselves and find their place in the world.\\n\\n5. Creativity and Imagination: As a film based on the Barbie fashion dolls, the movie celebrates creativity and imagination. It showcases the vibrant and imaginative world of Barbie and encourages viewers to embrace their own creativity.\\n\\nThese themes and ideas contribute to the overall narrative and message of the Barbie movie, making it a thought-provoking and entertaining film.\", additional_kwargs={}, example=False), HumanMessage(content='Themes or ideas in Barbie movie', additional_kwargs={}, example=False), AIMessage(content=\"I apologize for the confusion, but I couldn't find specific information about the themes or ideas in the Barbie movie. However, Barbie movies often explore themes of friendship, adventure, self-acceptance, and the importance of being true to oneself. These movies often promote positive values and teach valuable life lessons to young audiences.\", additional_kwargs={}, example=False)], 'output': \"I apologize for the confusion, but I couldn't find specific information about the themes or ideas in the Barbie movie. However, Barbie movies often explore themes of friendship, adventure, self-acceptance, and the importance of being true to oneself. These movies often promote positive values and teach valuable life lessons to young audiences.\", 'intermediate_steps': []}\u001b[0m\n",
      "Thought:"
     ]
    },
    {
     "ename": "InvalidRequestError",
     "evalue": "This model's maximum context length is 4097 tokens. However, your messages resulted in 5802 tokens. Please reduce the length of the messages.",
     "output_type": "error",
     "traceback": [
      "\u001b[0;31m---------------------------------------------------------------------------\u001b[0m",
      "\u001b[0;31mInvalidRequestError\u001b[0m                       Traceback (most recent call last)",
      "Cell \u001b[0;32mIn[53], line 1\u001b[0m\n\u001b[0;32m----> 1\u001b[0m \u001b[43mbarbenheimer_agent_chain\u001b[49m\u001b[38;5;241;43m.\u001b[39;49m\u001b[43mrun\u001b[49m\u001b[43m(\u001b[49m\u001b[43m{\u001b[49m\u001b[38;5;124;43m\"\u001b[39;49m\u001b[38;5;124;43minput\u001b[39;49m\u001b[38;5;124;43m\"\u001b[39;49m\u001b[43m \u001b[49m\u001b[43m:\u001b[49m\u001b[43m \u001b[49m\u001b[38;5;124;43m\"\u001b[39;49m\u001b[38;5;124;43mDid the movies Barbie and Oppenheimer share similar themes or ideas?\u001b[39;49m\u001b[38;5;124;43m\"\u001b[39;49m\u001b[43m}\u001b[49m\u001b[43m)\u001b[49m\n",
      "File \u001b[0;32m/opt/anaconda3/envs/llmops-course-venv/lib/python3.9/site-packages/langchain/chains/base.py:475\u001b[0m, in \u001b[0;36mChain.run\u001b[0;34m(self, callbacks, tags, metadata, *args, **kwargs)\u001b[0m\n\u001b[1;32m    473\u001b[0m     \u001b[38;5;28;01mif\u001b[39;00m \u001b[38;5;28mlen\u001b[39m(args) \u001b[38;5;241m!=\u001b[39m \u001b[38;5;241m1\u001b[39m:\n\u001b[1;32m    474\u001b[0m         \u001b[38;5;28;01mraise\u001b[39;00m \u001b[38;5;167;01mValueError\u001b[39;00m(\u001b[38;5;124m\"\u001b[39m\u001b[38;5;124m`run` supports only one positional argument.\u001b[39m\u001b[38;5;124m\"\u001b[39m)\n\u001b[0;32m--> 475\u001b[0m     \u001b[38;5;28;01mreturn\u001b[39;00m \u001b[38;5;28;43mself\u001b[39;49m\u001b[43m(\u001b[49m\u001b[43margs\u001b[49m\u001b[43m[\u001b[49m\u001b[38;5;241;43m0\u001b[39;49m\u001b[43m]\u001b[49m\u001b[43m,\u001b[49m\u001b[43m \u001b[49m\u001b[43mcallbacks\u001b[49m\u001b[38;5;241;43m=\u001b[39;49m\u001b[43mcallbacks\u001b[49m\u001b[43m,\u001b[49m\u001b[43m \u001b[49m\u001b[43mtags\u001b[49m\u001b[38;5;241;43m=\u001b[39;49m\u001b[43mtags\u001b[49m\u001b[43m,\u001b[49m\u001b[43m \u001b[49m\u001b[43mmetadata\u001b[49m\u001b[38;5;241;43m=\u001b[39;49m\u001b[43mmetadata\u001b[49m\u001b[43m)\u001b[49m[\n\u001b[1;32m    476\u001b[0m         _output_key\n\u001b[1;32m    477\u001b[0m     ]\n\u001b[1;32m    479\u001b[0m \u001b[38;5;28;01mif\u001b[39;00m kwargs \u001b[38;5;129;01mand\u001b[39;00m \u001b[38;5;129;01mnot\u001b[39;00m args:\n\u001b[1;32m    480\u001b[0m     \u001b[38;5;28;01mreturn\u001b[39;00m \u001b[38;5;28mself\u001b[39m(kwargs, callbacks\u001b[38;5;241m=\u001b[39mcallbacks, tags\u001b[38;5;241m=\u001b[39mtags, metadata\u001b[38;5;241m=\u001b[39mmetadata)[\n\u001b[1;32m    481\u001b[0m         _output_key\n\u001b[1;32m    482\u001b[0m     ]\n",
      "File \u001b[0;32m/opt/anaconda3/envs/llmops-course-venv/lib/python3.9/site-packages/langchain/chains/base.py:282\u001b[0m, in \u001b[0;36mChain.__call__\u001b[0;34m(self, inputs, return_only_outputs, callbacks, tags, metadata, include_run_info)\u001b[0m\n\u001b[1;32m    280\u001b[0m \u001b[38;5;28;01mexcept\u001b[39;00m (\u001b[38;5;167;01mKeyboardInterrupt\u001b[39;00m, \u001b[38;5;167;01mException\u001b[39;00m) \u001b[38;5;28;01mas\u001b[39;00m e:\n\u001b[1;32m    281\u001b[0m     run_manager\u001b[38;5;241m.\u001b[39mon_chain_error(e)\n\u001b[0;32m--> 282\u001b[0m     \u001b[38;5;28;01mraise\u001b[39;00m e\n\u001b[1;32m    283\u001b[0m run_manager\u001b[38;5;241m.\u001b[39mon_chain_end(outputs)\n\u001b[1;32m    284\u001b[0m final_outputs: Dict[\u001b[38;5;28mstr\u001b[39m, Any] \u001b[38;5;241m=\u001b[39m \u001b[38;5;28mself\u001b[39m\u001b[38;5;241m.\u001b[39mprep_outputs(\n\u001b[1;32m    285\u001b[0m     inputs, outputs, return_only_outputs\n\u001b[1;32m    286\u001b[0m )\n",
      "File \u001b[0;32m/opt/anaconda3/envs/llmops-course-venv/lib/python3.9/site-packages/langchain/chains/base.py:276\u001b[0m, in \u001b[0;36mChain.__call__\u001b[0;34m(self, inputs, return_only_outputs, callbacks, tags, metadata, include_run_info)\u001b[0m\n\u001b[1;32m    270\u001b[0m run_manager \u001b[38;5;241m=\u001b[39m callback_manager\u001b[38;5;241m.\u001b[39mon_chain_start(\n\u001b[1;32m    271\u001b[0m     dumpd(\u001b[38;5;28mself\u001b[39m),\n\u001b[1;32m    272\u001b[0m     inputs,\n\u001b[1;32m    273\u001b[0m )\n\u001b[1;32m    274\u001b[0m \u001b[38;5;28;01mtry\u001b[39;00m:\n\u001b[1;32m    275\u001b[0m     outputs \u001b[38;5;241m=\u001b[39m (\n\u001b[0;32m--> 276\u001b[0m         \u001b[38;5;28;43mself\u001b[39;49m\u001b[38;5;241;43m.\u001b[39;49m\u001b[43m_call\u001b[49m\u001b[43m(\u001b[49m\u001b[43minputs\u001b[49m\u001b[43m,\u001b[49m\u001b[43m \u001b[49m\u001b[43mrun_manager\u001b[49m\u001b[38;5;241;43m=\u001b[39;49m\u001b[43mrun_manager\u001b[49m\u001b[43m)\u001b[49m\n\u001b[1;32m    277\u001b[0m         \u001b[38;5;28;01mif\u001b[39;00m new_arg_supported\n\u001b[1;32m    278\u001b[0m         \u001b[38;5;28;01melse\u001b[39;00m \u001b[38;5;28mself\u001b[39m\u001b[38;5;241m.\u001b[39m_call(inputs)\n\u001b[1;32m    279\u001b[0m     )\n\u001b[1;32m    280\u001b[0m \u001b[38;5;28;01mexcept\u001b[39;00m (\u001b[38;5;167;01mKeyboardInterrupt\u001b[39;00m, \u001b[38;5;167;01mException\u001b[39;00m) \u001b[38;5;28;01mas\u001b[39;00m e:\n\u001b[1;32m    281\u001b[0m     run_manager\u001b[38;5;241m.\u001b[39mon_chain_error(e)\n",
      "File \u001b[0;32m/opt/anaconda3/envs/llmops-course-venv/lib/python3.9/site-packages/langchain/agents/agent.py:1036\u001b[0m, in \u001b[0;36mAgentExecutor._call\u001b[0;34m(self, inputs, run_manager)\u001b[0m\n\u001b[1;32m   1034\u001b[0m \u001b[38;5;66;03m# We now enter the agent loop (until it returns something).\u001b[39;00m\n\u001b[1;32m   1035\u001b[0m \u001b[38;5;28;01mwhile\u001b[39;00m \u001b[38;5;28mself\u001b[39m\u001b[38;5;241m.\u001b[39m_should_continue(iterations, time_elapsed):\n\u001b[0;32m-> 1036\u001b[0m     next_step_output \u001b[38;5;241m=\u001b[39m \u001b[38;5;28;43mself\u001b[39;49m\u001b[38;5;241;43m.\u001b[39;49m\u001b[43m_take_next_step\u001b[49m\u001b[43m(\u001b[49m\n\u001b[1;32m   1037\u001b[0m \u001b[43m        \u001b[49m\u001b[43mname_to_tool_map\u001b[49m\u001b[43m,\u001b[49m\n\u001b[1;32m   1038\u001b[0m \u001b[43m        \u001b[49m\u001b[43mcolor_mapping\u001b[49m\u001b[43m,\u001b[49m\n\u001b[1;32m   1039\u001b[0m \u001b[43m        \u001b[49m\u001b[43minputs\u001b[49m\u001b[43m,\u001b[49m\n\u001b[1;32m   1040\u001b[0m \u001b[43m        \u001b[49m\u001b[43mintermediate_steps\u001b[49m\u001b[43m,\u001b[49m\n\u001b[1;32m   1041\u001b[0m \u001b[43m        \u001b[49m\u001b[43mrun_manager\u001b[49m\u001b[38;5;241;43m=\u001b[39;49m\u001b[43mrun_manager\u001b[49m\u001b[43m,\u001b[49m\n\u001b[1;32m   1042\u001b[0m \u001b[43m    \u001b[49m\u001b[43m)\u001b[49m\n\u001b[1;32m   1043\u001b[0m     \u001b[38;5;28;01mif\u001b[39;00m \u001b[38;5;28misinstance\u001b[39m(next_step_output, AgentFinish):\n\u001b[1;32m   1044\u001b[0m         \u001b[38;5;28;01mreturn\u001b[39;00m \u001b[38;5;28mself\u001b[39m\u001b[38;5;241m.\u001b[39m_return(\n\u001b[1;32m   1045\u001b[0m             next_step_output, intermediate_steps, run_manager\u001b[38;5;241m=\u001b[39mrun_manager\n\u001b[1;32m   1046\u001b[0m         )\n",
      "File \u001b[0;32m/opt/anaconda3/envs/llmops-course-venv/lib/python3.9/site-packages/langchain/agents/agent.py:833\u001b[0m, in \u001b[0;36mAgentExecutor._take_next_step\u001b[0;34m(self, name_to_tool_map, color_mapping, inputs, intermediate_steps, run_manager)\u001b[0m\n\u001b[1;32m    830\u001b[0m     intermediate_steps \u001b[38;5;241m=\u001b[39m \u001b[38;5;28mself\u001b[39m\u001b[38;5;241m.\u001b[39m_prepare_intermediate_steps(intermediate_steps)\n\u001b[1;32m    832\u001b[0m     \u001b[38;5;66;03m# Call the LLM to see what to do.\u001b[39;00m\n\u001b[0;32m--> 833\u001b[0m     output \u001b[38;5;241m=\u001b[39m \u001b[38;5;28;43mself\u001b[39;49m\u001b[38;5;241;43m.\u001b[39;49m\u001b[43magent\u001b[49m\u001b[38;5;241;43m.\u001b[39;49m\u001b[43mplan\u001b[49m\u001b[43m(\u001b[49m\n\u001b[1;32m    834\u001b[0m \u001b[43m        \u001b[49m\u001b[43mintermediate_steps\u001b[49m\u001b[43m,\u001b[49m\n\u001b[1;32m    835\u001b[0m \u001b[43m        \u001b[49m\u001b[43mcallbacks\u001b[49m\u001b[38;5;241;43m=\u001b[39;49m\u001b[43mrun_manager\u001b[49m\u001b[38;5;241;43m.\u001b[39;49m\u001b[43mget_child\u001b[49m\u001b[43m(\u001b[49m\u001b[43m)\u001b[49m\u001b[43m \u001b[49m\u001b[38;5;28;43;01mif\u001b[39;49;00m\u001b[43m \u001b[49m\u001b[43mrun_manager\u001b[49m\u001b[43m \u001b[49m\u001b[38;5;28;43;01melse\u001b[39;49;00m\u001b[43m \u001b[49m\u001b[38;5;28;43;01mNone\u001b[39;49;00m\u001b[43m,\u001b[49m\n\u001b[1;32m    836\u001b[0m \u001b[43m        \u001b[49m\u001b[38;5;241;43m*\u001b[39;49m\u001b[38;5;241;43m*\u001b[39;49m\u001b[43minputs\u001b[49m\u001b[43m,\u001b[49m\n\u001b[1;32m    837\u001b[0m \u001b[43m    \u001b[49m\u001b[43m)\u001b[49m\n\u001b[1;32m    838\u001b[0m \u001b[38;5;28;01mexcept\u001b[39;00m OutputParserException \u001b[38;5;28;01mas\u001b[39;00m e:\n\u001b[1;32m    839\u001b[0m     \u001b[38;5;28;01mif\u001b[39;00m \u001b[38;5;28misinstance\u001b[39m(\u001b[38;5;28mself\u001b[39m\u001b[38;5;241m.\u001b[39mhandle_parsing_errors, \u001b[38;5;28mbool\u001b[39m):\n",
      "File \u001b[0;32m/opt/anaconda3/envs/llmops-course-venv/lib/python3.9/site-packages/langchain/agents/agent.py:456\u001b[0m, in \u001b[0;36mAgent.plan\u001b[0;34m(self, intermediate_steps, callbacks, **kwargs)\u001b[0m\n\u001b[1;32m    444\u001b[0m \u001b[38;5;250m\u001b[39m\u001b[38;5;124;03m\"\"\"Given input, decided what to do.\u001b[39;00m\n\u001b[1;32m    445\u001b[0m \n\u001b[1;32m    446\u001b[0m \u001b[38;5;124;03mArgs:\u001b[39;00m\n\u001b[0;32m   (...)\u001b[0m\n\u001b[1;32m    453\u001b[0m \u001b[38;5;124;03m    Action specifying what tool to use.\u001b[39;00m\n\u001b[1;32m    454\u001b[0m \u001b[38;5;124;03m\"\"\"\u001b[39;00m\n\u001b[1;32m    455\u001b[0m full_inputs \u001b[38;5;241m=\u001b[39m \u001b[38;5;28mself\u001b[39m\u001b[38;5;241m.\u001b[39mget_full_inputs(intermediate_steps, \u001b[38;5;241m*\u001b[39m\u001b[38;5;241m*\u001b[39mkwargs)\n\u001b[0;32m--> 456\u001b[0m full_output \u001b[38;5;241m=\u001b[39m \u001b[38;5;28;43mself\u001b[39;49m\u001b[38;5;241;43m.\u001b[39;49m\u001b[43mllm_chain\u001b[49m\u001b[38;5;241;43m.\u001b[39;49m\u001b[43mpredict\u001b[49m\u001b[43m(\u001b[49m\u001b[43mcallbacks\u001b[49m\u001b[38;5;241;43m=\u001b[39;49m\u001b[43mcallbacks\u001b[49m\u001b[43m,\u001b[49m\u001b[43m \u001b[49m\u001b[38;5;241;43m*\u001b[39;49m\u001b[38;5;241;43m*\u001b[39;49m\u001b[43mfull_inputs\u001b[49m\u001b[43m)\u001b[49m\n\u001b[1;32m    457\u001b[0m \u001b[38;5;28;01mreturn\u001b[39;00m \u001b[38;5;28mself\u001b[39m\u001b[38;5;241m.\u001b[39moutput_parser\u001b[38;5;241m.\u001b[39mparse(full_output)\n",
      "File \u001b[0;32m/opt/anaconda3/envs/llmops-course-venv/lib/python3.9/site-packages/langchain/chains/llm.py:255\u001b[0m, in \u001b[0;36mLLMChain.predict\u001b[0;34m(self, callbacks, **kwargs)\u001b[0m\n\u001b[1;32m    240\u001b[0m \u001b[38;5;28;01mdef\u001b[39;00m \u001b[38;5;21mpredict\u001b[39m(\u001b[38;5;28mself\u001b[39m, callbacks: Callbacks \u001b[38;5;241m=\u001b[39m \u001b[38;5;28;01mNone\u001b[39;00m, \u001b[38;5;241m*\u001b[39m\u001b[38;5;241m*\u001b[39mkwargs: Any) \u001b[38;5;241m-\u001b[39m\u001b[38;5;241m>\u001b[39m \u001b[38;5;28mstr\u001b[39m:\n\u001b[1;32m    241\u001b[0m \u001b[38;5;250m    \u001b[39m\u001b[38;5;124;03m\"\"\"Format prompt with kwargs and pass to LLM.\u001b[39;00m\n\u001b[1;32m    242\u001b[0m \n\u001b[1;32m    243\u001b[0m \u001b[38;5;124;03m    Args:\u001b[39;00m\n\u001b[0;32m   (...)\u001b[0m\n\u001b[1;32m    253\u001b[0m \u001b[38;5;124;03m            completion = llm.predict(adjective=\"funny\")\u001b[39;00m\n\u001b[1;32m    254\u001b[0m \u001b[38;5;124;03m    \"\"\"\u001b[39;00m\n\u001b[0;32m--> 255\u001b[0m     \u001b[38;5;28;01mreturn\u001b[39;00m \u001b[38;5;28;43mself\u001b[39;49m\u001b[43m(\u001b[49m\u001b[43mkwargs\u001b[49m\u001b[43m,\u001b[49m\u001b[43m \u001b[49m\u001b[43mcallbacks\u001b[49m\u001b[38;5;241;43m=\u001b[39;49m\u001b[43mcallbacks\u001b[49m\u001b[43m)\u001b[49m[\u001b[38;5;28mself\u001b[39m\u001b[38;5;241m.\u001b[39moutput_key]\n",
      "File \u001b[0;32m/opt/anaconda3/envs/llmops-course-venv/lib/python3.9/site-packages/langchain/chains/base.py:282\u001b[0m, in \u001b[0;36mChain.__call__\u001b[0;34m(self, inputs, return_only_outputs, callbacks, tags, metadata, include_run_info)\u001b[0m\n\u001b[1;32m    280\u001b[0m \u001b[38;5;28;01mexcept\u001b[39;00m (\u001b[38;5;167;01mKeyboardInterrupt\u001b[39;00m, \u001b[38;5;167;01mException\u001b[39;00m) \u001b[38;5;28;01mas\u001b[39;00m e:\n\u001b[1;32m    281\u001b[0m     run_manager\u001b[38;5;241m.\u001b[39mon_chain_error(e)\n\u001b[0;32m--> 282\u001b[0m     \u001b[38;5;28;01mraise\u001b[39;00m e\n\u001b[1;32m    283\u001b[0m run_manager\u001b[38;5;241m.\u001b[39mon_chain_end(outputs)\n\u001b[1;32m    284\u001b[0m final_outputs: Dict[\u001b[38;5;28mstr\u001b[39m, Any] \u001b[38;5;241m=\u001b[39m \u001b[38;5;28mself\u001b[39m\u001b[38;5;241m.\u001b[39mprep_outputs(\n\u001b[1;32m    285\u001b[0m     inputs, outputs, return_only_outputs\n\u001b[1;32m    286\u001b[0m )\n",
      "File \u001b[0;32m/opt/anaconda3/envs/llmops-course-venv/lib/python3.9/site-packages/langchain/chains/base.py:276\u001b[0m, in \u001b[0;36mChain.__call__\u001b[0;34m(self, inputs, return_only_outputs, callbacks, tags, metadata, include_run_info)\u001b[0m\n\u001b[1;32m    270\u001b[0m run_manager \u001b[38;5;241m=\u001b[39m callback_manager\u001b[38;5;241m.\u001b[39mon_chain_start(\n\u001b[1;32m    271\u001b[0m     dumpd(\u001b[38;5;28mself\u001b[39m),\n\u001b[1;32m    272\u001b[0m     inputs,\n\u001b[1;32m    273\u001b[0m )\n\u001b[1;32m    274\u001b[0m \u001b[38;5;28;01mtry\u001b[39;00m:\n\u001b[1;32m    275\u001b[0m     outputs \u001b[38;5;241m=\u001b[39m (\n\u001b[0;32m--> 276\u001b[0m         \u001b[38;5;28;43mself\u001b[39;49m\u001b[38;5;241;43m.\u001b[39;49m\u001b[43m_call\u001b[49m\u001b[43m(\u001b[49m\u001b[43minputs\u001b[49m\u001b[43m,\u001b[49m\u001b[43m \u001b[49m\u001b[43mrun_manager\u001b[49m\u001b[38;5;241;43m=\u001b[39;49m\u001b[43mrun_manager\u001b[49m\u001b[43m)\u001b[49m\n\u001b[1;32m    277\u001b[0m         \u001b[38;5;28;01mif\u001b[39;00m new_arg_supported\n\u001b[1;32m    278\u001b[0m         \u001b[38;5;28;01melse\u001b[39;00m \u001b[38;5;28mself\u001b[39m\u001b[38;5;241m.\u001b[39m_call(inputs)\n\u001b[1;32m    279\u001b[0m     )\n\u001b[1;32m    280\u001b[0m \u001b[38;5;28;01mexcept\u001b[39;00m (\u001b[38;5;167;01mKeyboardInterrupt\u001b[39;00m, \u001b[38;5;167;01mException\u001b[39;00m) \u001b[38;5;28;01mas\u001b[39;00m e:\n\u001b[1;32m    281\u001b[0m     run_manager\u001b[38;5;241m.\u001b[39mon_chain_error(e)\n",
      "File \u001b[0;32m/opt/anaconda3/envs/llmops-course-venv/lib/python3.9/site-packages/langchain/chains/llm.py:91\u001b[0m, in \u001b[0;36mLLMChain._call\u001b[0;34m(self, inputs, run_manager)\u001b[0m\n\u001b[1;32m     86\u001b[0m \u001b[38;5;28;01mdef\u001b[39;00m \u001b[38;5;21m_call\u001b[39m(\n\u001b[1;32m     87\u001b[0m     \u001b[38;5;28mself\u001b[39m,\n\u001b[1;32m     88\u001b[0m     inputs: Dict[\u001b[38;5;28mstr\u001b[39m, Any],\n\u001b[1;32m     89\u001b[0m     run_manager: Optional[CallbackManagerForChainRun] \u001b[38;5;241m=\u001b[39m \u001b[38;5;28;01mNone\u001b[39;00m,\n\u001b[1;32m     90\u001b[0m ) \u001b[38;5;241m-\u001b[39m\u001b[38;5;241m>\u001b[39m Dict[\u001b[38;5;28mstr\u001b[39m, \u001b[38;5;28mstr\u001b[39m]:\n\u001b[0;32m---> 91\u001b[0m     response \u001b[38;5;241m=\u001b[39m \u001b[38;5;28;43mself\u001b[39;49m\u001b[38;5;241;43m.\u001b[39;49m\u001b[43mgenerate\u001b[49m\u001b[43m(\u001b[49m\u001b[43m[\u001b[49m\u001b[43minputs\u001b[49m\u001b[43m]\u001b[49m\u001b[43m,\u001b[49m\u001b[43m \u001b[49m\u001b[43mrun_manager\u001b[49m\u001b[38;5;241;43m=\u001b[39;49m\u001b[43mrun_manager\u001b[49m\u001b[43m)\u001b[49m\n\u001b[1;32m     92\u001b[0m     \u001b[38;5;28;01mreturn\u001b[39;00m \u001b[38;5;28mself\u001b[39m\u001b[38;5;241m.\u001b[39mcreate_outputs(response)[\u001b[38;5;241m0\u001b[39m]\n",
      "File \u001b[0;32m/opt/anaconda3/envs/llmops-course-venv/lib/python3.9/site-packages/langchain/chains/llm.py:101\u001b[0m, in \u001b[0;36mLLMChain.generate\u001b[0;34m(self, input_list, run_manager)\u001b[0m\n\u001b[1;32m     99\u001b[0m \u001b[38;5;250m\u001b[39m\u001b[38;5;124;03m\"\"\"Generate LLM result from inputs.\"\"\"\u001b[39;00m\n\u001b[1;32m    100\u001b[0m prompts, stop \u001b[38;5;241m=\u001b[39m \u001b[38;5;28mself\u001b[39m\u001b[38;5;241m.\u001b[39mprep_prompts(input_list, run_manager\u001b[38;5;241m=\u001b[39mrun_manager)\n\u001b[0;32m--> 101\u001b[0m \u001b[38;5;28;01mreturn\u001b[39;00m \u001b[38;5;28;43mself\u001b[39;49m\u001b[38;5;241;43m.\u001b[39;49m\u001b[43mllm\u001b[49m\u001b[38;5;241;43m.\u001b[39;49m\u001b[43mgenerate_prompt\u001b[49m\u001b[43m(\u001b[49m\n\u001b[1;32m    102\u001b[0m \u001b[43m    \u001b[49m\u001b[43mprompts\u001b[49m\u001b[43m,\u001b[49m\n\u001b[1;32m    103\u001b[0m \u001b[43m    \u001b[49m\u001b[43mstop\u001b[49m\u001b[43m,\u001b[49m\n\u001b[1;32m    104\u001b[0m \u001b[43m    \u001b[49m\u001b[43mcallbacks\u001b[49m\u001b[38;5;241;43m=\u001b[39;49m\u001b[43mrun_manager\u001b[49m\u001b[38;5;241;43m.\u001b[39;49m\u001b[43mget_child\u001b[49m\u001b[43m(\u001b[49m\u001b[43m)\u001b[49m\u001b[43m \u001b[49m\u001b[38;5;28;43;01mif\u001b[39;49;00m\u001b[43m \u001b[49m\u001b[43mrun_manager\u001b[49m\u001b[43m \u001b[49m\u001b[38;5;28;43;01melse\u001b[39;49;00m\u001b[43m \u001b[49m\u001b[38;5;28;43;01mNone\u001b[39;49;00m\u001b[43m,\u001b[49m\n\u001b[1;32m    105\u001b[0m \u001b[43m    \u001b[49m\u001b[38;5;241;43m*\u001b[39;49m\u001b[38;5;241;43m*\u001b[39;49m\u001b[38;5;28;43mself\u001b[39;49m\u001b[38;5;241;43m.\u001b[39;49m\u001b[43mllm_kwargs\u001b[49m\u001b[43m,\u001b[49m\n\u001b[1;32m    106\u001b[0m \u001b[43m\u001b[49m\u001b[43m)\u001b[49m\n",
      "File \u001b[0;32m/opt/anaconda3/envs/llmops-course-venv/lib/python3.9/site-packages/langchain/chat_models/base.py:414\u001b[0m, in \u001b[0;36mBaseChatModel.generate_prompt\u001b[0;34m(self, prompts, stop, callbacks, **kwargs)\u001b[0m\n\u001b[1;32m    406\u001b[0m \u001b[38;5;28;01mdef\u001b[39;00m \u001b[38;5;21mgenerate_prompt\u001b[39m(\n\u001b[1;32m    407\u001b[0m     \u001b[38;5;28mself\u001b[39m,\n\u001b[1;32m    408\u001b[0m     prompts: List[PromptValue],\n\u001b[0;32m   (...)\u001b[0m\n\u001b[1;32m    411\u001b[0m     \u001b[38;5;241m*\u001b[39m\u001b[38;5;241m*\u001b[39mkwargs: Any,\n\u001b[1;32m    412\u001b[0m ) \u001b[38;5;241m-\u001b[39m\u001b[38;5;241m>\u001b[39m LLMResult:\n\u001b[1;32m    413\u001b[0m     prompt_messages \u001b[38;5;241m=\u001b[39m [p\u001b[38;5;241m.\u001b[39mto_messages() \u001b[38;5;28;01mfor\u001b[39;00m p \u001b[38;5;129;01min\u001b[39;00m prompts]\n\u001b[0;32m--> 414\u001b[0m     \u001b[38;5;28;01mreturn\u001b[39;00m \u001b[38;5;28;43mself\u001b[39;49m\u001b[38;5;241;43m.\u001b[39;49m\u001b[43mgenerate\u001b[49m\u001b[43m(\u001b[49m\u001b[43mprompt_messages\u001b[49m\u001b[43m,\u001b[49m\u001b[43m \u001b[49m\u001b[43mstop\u001b[49m\u001b[38;5;241;43m=\u001b[39;49m\u001b[43mstop\u001b[49m\u001b[43m,\u001b[49m\u001b[43m \u001b[49m\u001b[43mcallbacks\u001b[49m\u001b[38;5;241;43m=\u001b[39;49m\u001b[43mcallbacks\u001b[49m\u001b[43m,\u001b[49m\u001b[43m \u001b[49m\u001b[38;5;241;43m*\u001b[39;49m\u001b[38;5;241;43m*\u001b[39;49m\u001b[43mkwargs\u001b[49m\u001b[43m)\u001b[49m\n",
      "File \u001b[0;32m/opt/anaconda3/envs/llmops-course-venv/lib/python3.9/site-packages/langchain/chat_models/base.py:309\u001b[0m, in \u001b[0;36mBaseChatModel.generate\u001b[0;34m(self, messages, stop, callbacks, tags, metadata, **kwargs)\u001b[0m\n\u001b[1;32m    307\u001b[0m         \u001b[38;5;28;01mif\u001b[39;00m run_managers:\n\u001b[1;32m    308\u001b[0m             run_managers[i]\u001b[38;5;241m.\u001b[39mon_llm_error(e)\n\u001b[0;32m--> 309\u001b[0m         \u001b[38;5;28;01mraise\u001b[39;00m e\n\u001b[1;32m    310\u001b[0m flattened_outputs \u001b[38;5;241m=\u001b[39m [\n\u001b[1;32m    311\u001b[0m     LLMResult(generations\u001b[38;5;241m=\u001b[39m[res\u001b[38;5;241m.\u001b[39mgenerations], llm_output\u001b[38;5;241m=\u001b[39mres\u001b[38;5;241m.\u001b[39mllm_output)\n\u001b[1;32m    312\u001b[0m     \u001b[38;5;28;01mfor\u001b[39;00m res \u001b[38;5;129;01min\u001b[39;00m results\n\u001b[1;32m    313\u001b[0m ]\n\u001b[1;32m    314\u001b[0m llm_output \u001b[38;5;241m=\u001b[39m \u001b[38;5;28mself\u001b[39m\u001b[38;5;241m.\u001b[39m_combine_llm_outputs([res\u001b[38;5;241m.\u001b[39mllm_output \u001b[38;5;28;01mfor\u001b[39;00m res \u001b[38;5;129;01min\u001b[39;00m results])\n",
      "File \u001b[0;32m/opt/anaconda3/envs/llmops-course-venv/lib/python3.9/site-packages/langchain/chat_models/base.py:299\u001b[0m, in \u001b[0;36mBaseChatModel.generate\u001b[0;34m(self, messages, stop, callbacks, tags, metadata, **kwargs)\u001b[0m\n\u001b[1;32m    296\u001b[0m \u001b[38;5;28;01mfor\u001b[39;00m i, m \u001b[38;5;129;01min\u001b[39;00m \u001b[38;5;28menumerate\u001b[39m(messages):\n\u001b[1;32m    297\u001b[0m     \u001b[38;5;28;01mtry\u001b[39;00m:\n\u001b[1;32m    298\u001b[0m         results\u001b[38;5;241m.\u001b[39mappend(\n\u001b[0;32m--> 299\u001b[0m             \u001b[38;5;28;43mself\u001b[39;49m\u001b[38;5;241;43m.\u001b[39;49m\u001b[43m_generate_with_cache\u001b[49m\u001b[43m(\u001b[49m\n\u001b[1;32m    300\u001b[0m \u001b[43m                \u001b[49m\u001b[43mm\u001b[49m\u001b[43m,\u001b[49m\n\u001b[1;32m    301\u001b[0m \u001b[43m                \u001b[49m\u001b[43mstop\u001b[49m\u001b[38;5;241;43m=\u001b[39;49m\u001b[43mstop\u001b[49m\u001b[43m,\u001b[49m\n\u001b[1;32m    302\u001b[0m \u001b[43m                \u001b[49m\u001b[43mrun_manager\u001b[49m\u001b[38;5;241;43m=\u001b[39;49m\u001b[43mrun_managers\u001b[49m\u001b[43m[\u001b[49m\u001b[43mi\u001b[49m\u001b[43m]\u001b[49m\u001b[43m \u001b[49m\u001b[38;5;28;43;01mif\u001b[39;49;00m\u001b[43m \u001b[49m\u001b[43mrun_managers\u001b[49m\u001b[43m \u001b[49m\u001b[38;5;28;43;01melse\u001b[39;49;00m\u001b[43m \u001b[49m\u001b[38;5;28;43;01mNone\u001b[39;49;00m\u001b[43m,\u001b[49m\n\u001b[1;32m    303\u001b[0m \u001b[43m                \u001b[49m\u001b[38;5;241;43m*\u001b[39;49m\u001b[38;5;241;43m*\u001b[39;49m\u001b[43mkwargs\u001b[49m\u001b[43m,\u001b[49m\n\u001b[1;32m    304\u001b[0m \u001b[43m            \u001b[49m\u001b[43m)\u001b[49m\n\u001b[1;32m    305\u001b[0m         )\n\u001b[1;32m    306\u001b[0m     \u001b[38;5;28;01mexcept\u001b[39;00m (\u001b[38;5;167;01mKeyboardInterrupt\u001b[39;00m, \u001b[38;5;167;01mException\u001b[39;00m) \u001b[38;5;28;01mas\u001b[39;00m e:\n\u001b[1;32m    307\u001b[0m         \u001b[38;5;28;01mif\u001b[39;00m run_managers:\n",
      "File \u001b[0;32m/opt/anaconda3/envs/llmops-course-venv/lib/python3.9/site-packages/langchain/chat_models/base.py:446\u001b[0m, in \u001b[0;36mBaseChatModel._generate_with_cache\u001b[0;34m(self, messages, stop, run_manager, **kwargs)\u001b[0m\n\u001b[1;32m    442\u001b[0m     \u001b[38;5;28;01mraise\u001b[39;00m \u001b[38;5;167;01mValueError\u001b[39;00m(\n\u001b[1;32m    443\u001b[0m         \u001b[38;5;124m\"\u001b[39m\u001b[38;5;124mAsked to cache, but no cache found at `langchain.cache`.\u001b[39m\u001b[38;5;124m\"\u001b[39m\n\u001b[1;32m    444\u001b[0m     )\n\u001b[1;32m    445\u001b[0m \u001b[38;5;28;01mif\u001b[39;00m new_arg_supported:\n\u001b[0;32m--> 446\u001b[0m     \u001b[38;5;28;01mreturn\u001b[39;00m \u001b[38;5;28;43mself\u001b[39;49m\u001b[38;5;241;43m.\u001b[39;49m\u001b[43m_generate\u001b[49m\u001b[43m(\u001b[49m\n\u001b[1;32m    447\u001b[0m \u001b[43m        \u001b[49m\u001b[43mmessages\u001b[49m\u001b[43m,\u001b[49m\u001b[43m \u001b[49m\u001b[43mstop\u001b[49m\u001b[38;5;241;43m=\u001b[39;49m\u001b[43mstop\u001b[49m\u001b[43m,\u001b[49m\u001b[43m \u001b[49m\u001b[43mrun_manager\u001b[49m\u001b[38;5;241;43m=\u001b[39;49m\u001b[43mrun_manager\u001b[49m\u001b[43m,\u001b[49m\u001b[43m \u001b[49m\u001b[38;5;241;43m*\u001b[39;49m\u001b[38;5;241;43m*\u001b[39;49m\u001b[43mkwargs\u001b[49m\n\u001b[1;32m    448\u001b[0m \u001b[43m    \u001b[49m\u001b[43m)\u001b[49m\n\u001b[1;32m    449\u001b[0m \u001b[38;5;28;01melse\u001b[39;00m:\n\u001b[1;32m    450\u001b[0m     \u001b[38;5;28;01mreturn\u001b[39;00m \u001b[38;5;28mself\u001b[39m\u001b[38;5;241m.\u001b[39m_generate(messages, stop\u001b[38;5;241m=\u001b[39mstop, \u001b[38;5;241m*\u001b[39m\u001b[38;5;241m*\u001b[39mkwargs)\n",
      "File \u001b[0;32m/opt/anaconda3/envs/llmops-course-venv/lib/python3.9/site-packages/langchain/chat_models/openai.py:339\u001b[0m, in \u001b[0;36mChatOpenAI._generate\u001b[0;34m(self, messages, stop, run_manager, stream, **kwargs)\u001b[0m\n\u001b[1;32m    337\u001b[0m message_dicts, params \u001b[38;5;241m=\u001b[39m \u001b[38;5;28mself\u001b[39m\u001b[38;5;241m.\u001b[39m_create_message_dicts(messages, stop)\n\u001b[1;32m    338\u001b[0m params \u001b[38;5;241m=\u001b[39m {\u001b[38;5;241m*\u001b[39m\u001b[38;5;241m*\u001b[39mparams, \u001b[38;5;241m*\u001b[39m\u001b[38;5;241m*\u001b[39mkwargs}\n\u001b[0;32m--> 339\u001b[0m response \u001b[38;5;241m=\u001b[39m \u001b[38;5;28;43mself\u001b[39;49m\u001b[38;5;241;43m.\u001b[39;49m\u001b[43mcompletion_with_retry\u001b[49m\u001b[43m(\u001b[49m\n\u001b[1;32m    340\u001b[0m \u001b[43m    \u001b[49m\u001b[43mmessages\u001b[49m\u001b[38;5;241;43m=\u001b[39;49m\u001b[43mmessage_dicts\u001b[49m\u001b[43m,\u001b[49m\u001b[43m \u001b[49m\u001b[43mrun_manager\u001b[49m\u001b[38;5;241;43m=\u001b[39;49m\u001b[43mrun_manager\u001b[49m\u001b[43m,\u001b[49m\u001b[43m \u001b[49m\u001b[38;5;241;43m*\u001b[39;49m\u001b[38;5;241;43m*\u001b[39;49m\u001b[43mparams\u001b[49m\n\u001b[1;32m    341\u001b[0m \u001b[43m\u001b[49m\u001b[43m)\u001b[49m\n\u001b[1;32m    342\u001b[0m \u001b[38;5;28;01mreturn\u001b[39;00m \u001b[38;5;28mself\u001b[39m\u001b[38;5;241m.\u001b[39m_create_chat_result(response)\n",
      "File \u001b[0;32m/opt/anaconda3/envs/llmops-course-venv/lib/python3.9/site-packages/langchain/chat_models/openai.py:278\u001b[0m, in \u001b[0;36mChatOpenAI.completion_with_retry\u001b[0;34m(self, run_manager, **kwargs)\u001b[0m\n\u001b[1;32m    274\u001b[0m \u001b[38;5;129m@retry_decorator\u001b[39m\n\u001b[1;32m    275\u001b[0m \u001b[38;5;28;01mdef\u001b[39;00m \u001b[38;5;21m_completion_with_retry\u001b[39m(\u001b[38;5;241m*\u001b[39m\u001b[38;5;241m*\u001b[39mkwargs: Any) \u001b[38;5;241m-\u001b[39m\u001b[38;5;241m>\u001b[39m Any:\n\u001b[1;32m    276\u001b[0m     \u001b[38;5;28;01mreturn\u001b[39;00m \u001b[38;5;28mself\u001b[39m\u001b[38;5;241m.\u001b[39mclient\u001b[38;5;241m.\u001b[39mcreate(\u001b[38;5;241m*\u001b[39m\u001b[38;5;241m*\u001b[39mkwargs)\n\u001b[0;32m--> 278\u001b[0m \u001b[38;5;28;01mreturn\u001b[39;00m \u001b[43m_completion_with_retry\u001b[49m\u001b[43m(\u001b[49m\u001b[38;5;241;43m*\u001b[39;49m\u001b[38;5;241;43m*\u001b[39;49m\u001b[43mkwargs\u001b[49m\u001b[43m)\u001b[49m\n",
      "File \u001b[0;32m/opt/anaconda3/envs/llmops-course-venv/lib/python3.9/site-packages/tenacity/__init__.py:289\u001b[0m, in \u001b[0;36mBaseRetrying.wraps.<locals>.wrapped_f\u001b[0;34m(*args, **kw)\u001b[0m\n\u001b[1;32m    287\u001b[0m \u001b[38;5;129m@functools\u001b[39m\u001b[38;5;241m.\u001b[39mwraps(f)\n\u001b[1;32m    288\u001b[0m \u001b[38;5;28;01mdef\u001b[39;00m \u001b[38;5;21mwrapped_f\u001b[39m(\u001b[38;5;241m*\u001b[39margs: t\u001b[38;5;241m.\u001b[39mAny, \u001b[38;5;241m*\u001b[39m\u001b[38;5;241m*\u001b[39mkw: t\u001b[38;5;241m.\u001b[39mAny) \u001b[38;5;241m-\u001b[39m\u001b[38;5;241m>\u001b[39m t\u001b[38;5;241m.\u001b[39mAny:\n\u001b[0;32m--> 289\u001b[0m     \u001b[38;5;28;01mreturn\u001b[39;00m \u001b[38;5;28;43mself\u001b[39;49m\u001b[43m(\u001b[49m\u001b[43mf\u001b[49m\u001b[43m,\u001b[49m\u001b[43m \u001b[49m\u001b[38;5;241;43m*\u001b[39;49m\u001b[43margs\u001b[49m\u001b[43m,\u001b[49m\u001b[43m \u001b[49m\u001b[38;5;241;43m*\u001b[39;49m\u001b[38;5;241;43m*\u001b[39;49m\u001b[43mkw\u001b[49m\u001b[43m)\u001b[49m\n",
      "File \u001b[0;32m/opt/anaconda3/envs/llmops-course-venv/lib/python3.9/site-packages/tenacity/__init__.py:379\u001b[0m, in \u001b[0;36mRetrying.__call__\u001b[0;34m(self, fn, *args, **kwargs)\u001b[0m\n\u001b[1;32m    377\u001b[0m retry_state \u001b[38;5;241m=\u001b[39m RetryCallState(retry_object\u001b[38;5;241m=\u001b[39m\u001b[38;5;28mself\u001b[39m, fn\u001b[38;5;241m=\u001b[39mfn, args\u001b[38;5;241m=\u001b[39margs, kwargs\u001b[38;5;241m=\u001b[39mkwargs)\n\u001b[1;32m    378\u001b[0m \u001b[38;5;28;01mwhile\u001b[39;00m \u001b[38;5;28;01mTrue\u001b[39;00m:\n\u001b[0;32m--> 379\u001b[0m     do \u001b[38;5;241m=\u001b[39m \u001b[38;5;28;43mself\u001b[39;49m\u001b[38;5;241;43m.\u001b[39;49m\u001b[43miter\u001b[49m\u001b[43m(\u001b[49m\u001b[43mretry_state\u001b[49m\u001b[38;5;241;43m=\u001b[39;49m\u001b[43mretry_state\u001b[49m\u001b[43m)\u001b[49m\n\u001b[1;32m    380\u001b[0m     \u001b[38;5;28;01mif\u001b[39;00m \u001b[38;5;28misinstance\u001b[39m(do, DoAttempt):\n\u001b[1;32m    381\u001b[0m         \u001b[38;5;28;01mtry\u001b[39;00m:\n",
      "File \u001b[0;32m/opt/anaconda3/envs/llmops-course-venv/lib/python3.9/site-packages/tenacity/__init__.py:314\u001b[0m, in \u001b[0;36mBaseRetrying.iter\u001b[0;34m(self, retry_state)\u001b[0m\n\u001b[1;32m    312\u001b[0m is_explicit_retry \u001b[38;5;241m=\u001b[39m fut\u001b[38;5;241m.\u001b[39mfailed \u001b[38;5;129;01mand\u001b[39;00m \u001b[38;5;28misinstance\u001b[39m(fut\u001b[38;5;241m.\u001b[39mexception(), TryAgain)\n\u001b[1;32m    313\u001b[0m \u001b[38;5;28;01mif\u001b[39;00m \u001b[38;5;129;01mnot\u001b[39;00m (is_explicit_retry \u001b[38;5;129;01mor\u001b[39;00m \u001b[38;5;28mself\u001b[39m\u001b[38;5;241m.\u001b[39mretry(retry_state)):\n\u001b[0;32m--> 314\u001b[0m     \u001b[38;5;28;01mreturn\u001b[39;00m \u001b[43mfut\u001b[49m\u001b[38;5;241;43m.\u001b[39;49m\u001b[43mresult\u001b[49m\u001b[43m(\u001b[49m\u001b[43m)\u001b[49m\n\u001b[1;32m    316\u001b[0m \u001b[38;5;28;01mif\u001b[39;00m \u001b[38;5;28mself\u001b[39m\u001b[38;5;241m.\u001b[39mafter \u001b[38;5;129;01mis\u001b[39;00m \u001b[38;5;129;01mnot\u001b[39;00m \u001b[38;5;28;01mNone\u001b[39;00m:\n\u001b[1;32m    317\u001b[0m     \u001b[38;5;28mself\u001b[39m\u001b[38;5;241m.\u001b[39mafter(retry_state)\n",
      "File \u001b[0;32m/opt/anaconda3/envs/llmops-course-venv/lib/python3.9/concurrent/futures/_base.py:439\u001b[0m, in \u001b[0;36mFuture.result\u001b[0;34m(self, timeout)\u001b[0m\n\u001b[1;32m    437\u001b[0m     \u001b[38;5;28;01mraise\u001b[39;00m CancelledError()\n\u001b[1;32m    438\u001b[0m \u001b[38;5;28;01melif\u001b[39;00m \u001b[38;5;28mself\u001b[39m\u001b[38;5;241m.\u001b[39m_state \u001b[38;5;241m==\u001b[39m FINISHED:\n\u001b[0;32m--> 439\u001b[0m     \u001b[38;5;28;01mreturn\u001b[39;00m \u001b[38;5;28;43mself\u001b[39;49m\u001b[38;5;241;43m.\u001b[39;49m\u001b[43m__get_result\u001b[49m\u001b[43m(\u001b[49m\u001b[43m)\u001b[49m\n\u001b[1;32m    441\u001b[0m \u001b[38;5;28mself\u001b[39m\u001b[38;5;241m.\u001b[39m_condition\u001b[38;5;241m.\u001b[39mwait(timeout)\n\u001b[1;32m    443\u001b[0m \u001b[38;5;28;01mif\u001b[39;00m \u001b[38;5;28mself\u001b[39m\u001b[38;5;241m.\u001b[39m_state \u001b[38;5;129;01min\u001b[39;00m [CANCELLED, CANCELLED_AND_NOTIFIED]:\n",
      "File \u001b[0;32m/opt/anaconda3/envs/llmops-course-venv/lib/python3.9/concurrent/futures/_base.py:391\u001b[0m, in \u001b[0;36mFuture.__get_result\u001b[0;34m(self)\u001b[0m\n\u001b[1;32m    389\u001b[0m \u001b[38;5;28;01mif\u001b[39;00m \u001b[38;5;28mself\u001b[39m\u001b[38;5;241m.\u001b[39m_exception:\n\u001b[1;32m    390\u001b[0m     \u001b[38;5;28;01mtry\u001b[39;00m:\n\u001b[0;32m--> 391\u001b[0m         \u001b[38;5;28;01mraise\u001b[39;00m \u001b[38;5;28mself\u001b[39m\u001b[38;5;241m.\u001b[39m_exception\n\u001b[1;32m    392\u001b[0m     \u001b[38;5;28;01mfinally\u001b[39;00m:\n\u001b[1;32m    393\u001b[0m         \u001b[38;5;66;03m# Break a reference cycle with the exception in self._exception\u001b[39;00m\n\u001b[1;32m    394\u001b[0m         \u001b[38;5;28mself\u001b[39m \u001b[38;5;241m=\u001b[39m \u001b[38;5;28;01mNone\u001b[39;00m\n",
      "File \u001b[0;32m/opt/anaconda3/envs/llmops-course-venv/lib/python3.9/site-packages/tenacity/__init__.py:382\u001b[0m, in \u001b[0;36mRetrying.__call__\u001b[0;34m(self, fn, *args, **kwargs)\u001b[0m\n\u001b[1;32m    380\u001b[0m \u001b[38;5;28;01mif\u001b[39;00m \u001b[38;5;28misinstance\u001b[39m(do, DoAttempt):\n\u001b[1;32m    381\u001b[0m     \u001b[38;5;28;01mtry\u001b[39;00m:\n\u001b[0;32m--> 382\u001b[0m         result \u001b[38;5;241m=\u001b[39m \u001b[43mfn\u001b[49m\u001b[43m(\u001b[49m\u001b[38;5;241;43m*\u001b[39;49m\u001b[43margs\u001b[49m\u001b[43m,\u001b[49m\u001b[43m \u001b[49m\u001b[38;5;241;43m*\u001b[39;49m\u001b[38;5;241;43m*\u001b[39;49m\u001b[43mkwargs\u001b[49m\u001b[43m)\u001b[49m\n\u001b[1;32m    383\u001b[0m     \u001b[38;5;28;01mexcept\u001b[39;00m \u001b[38;5;167;01mBaseException\u001b[39;00m:  \u001b[38;5;66;03m# noqa: B902\u001b[39;00m\n\u001b[1;32m    384\u001b[0m         retry_state\u001b[38;5;241m.\u001b[39mset_exception(sys\u001b[38;5;241m.\u001b[39mexc_info())  \u001b[38;5;66;03m# type: ignore[arg-type]\u001b[39;00m\n",
      "File \u001b[0;32m/opt/anaconda3/envs/llmops-course-venv/lib/python3.9/site-packages/langchain/chat_models/openai.py:276\u001b[0m, in \u001b[0;36mChatOpenAI.completion_with_retry.<locals>._completion_with_retry\u001b[0;34m(**kwargs)\u001b[0m\n\u001b[1;32m    274\u001b[0m \u001b[38;5;129m@retry_decorator\u001b[39m\n\u001b[1;32m    275\u001b[0m \u001b[38;5;28;01mdef\u001b[39;00m \u001b[38;5;21m_completion_with_retry\u001b[39m(\u001b[38;5;241m*\u001b[39m\u001b[38;5;241m*\u001b[39mkwargs: Any) \u001b[38;5;241m-\u001b[39m\u001b[38;5;241m>\u001b[39m Any:\n\u001b[0;32m--> 276\u001b[0m     \u001b[38;5;28;01mreturn\u001b[39;00m \u001b[38;5;28;43mself\u001b[39;49m\u001b[38;5;241;43m.\u001b[39;49m\u001b[43mclient\u001b[49m\u001b[38;5;241;43m.\u001b[39;49m\u001b[43mcreate\u001b[49m\u001b[43m(\u001b[49m\u001b[38;5;241;43m*\u001b[39;49m\u001b[38;5;241;43m*\u001b[39;49m\u001b[43mkwargs\u001b[49m\u001b[43m)\u001b[49m\n",
      "File \u001b[0;32m/opt/anaconda3/envs/llmops-course-venv/lib/python3.9/site-packages/openai/api_resources/chat_completion.py:25\u001b[0m, in \u001b[0;36mChatCompletion.create\u001b[0;34m(cls, *args, **kwargs)\u001b[0m\n\u001b[1;32m     23\u001b[0m \u001b[38;5;28;01mwhile\u001b[39;00m \u001b[38;5;28;01mTrue\u001b[39;00m:\n\u001b[1;32m     24\u001b[0m     \u001b[38;5;28;01mtry\u001b[39;00m:\n\u001b[0;32m---> 25\u001b[0m         \u001b[38;5;28;01mreturn\u001b[39;00m \u001b[38;5;28;43msuper\u001b[39;49m\u001b[43m(\u001b[49m\u001b[43m)\u001b[49m\u001b[38;5;241;43m.\u001b[39;49m\u001b[43mcreate\u001b[49m\u001b[43m(\u001b[49m\u001b[38;5;241;43m*\u001b[39;49m\u001b[43margs\u001b[49m\u001b[43m,\u001b[49m\u001b[43m \u001b[49m\u001b[38;5;241;43m*\u001b[39;49m\u001b[38;5;241;43m*\u001b[39;49m\u001b[43mkwargs\u001b[49m\u001b[43m)\u001b[49m\n\u001b[1;32m     26\u001b[0m     \u001b[38;5;28;01mexcept\u001b[39;00m TryAgain \u001b[38;5;28;01mas\u001b[39;00m e:\n\u001b[1;32m     27\u001b[0m         \u001b[38;5;28;01mif\u001b[39;00m timeout \u001b[38;5;129;01mis\u001b[39;00m \u001b[38;5;129;01mnot\u001b[39;00m \u001b[38;5;28;01mNone\u001b[39;00m \u001b[38;5;129;01mand\u001b[39;00m time\u001b[38;5;241m.\u001b[39mtime() \u001b[38;5;241m>\u001b[39m start \u001b[38;5;241m+\u001b[39m timeout:\n",
      "File \u001b[0;32m/opt/anaconda3/envs/llmops-course-venv/lib/python3.9/site-packages/openai/api_resources/abstract/engine_api_resource.py:153\u001b[0m, in \u001b[0;36mEngineAPIResource.create\u001b[0;34m(cls, api_key, api_base, api_type, request_id, api_version, organization, **params)\u001b[0m\n\u001b[1;32m    127\u001b[0m \u001b[38;5;129m@classmethod\u001b[39m\n\u001b[1;32m    128\u001b[0m \u001b[38;5;28;01mdef\u001b[39;00m \u001b[38;5;21mcreate\u001b[39m(\n\u001b[1;32m    129\u001b[0m     \u001b[38;5;28mcls\u001b[39m,\n\u001b[0;32m   (...)\u001b[0m\n\u001b[1;32m    136\u001b[0m     \u001b[38;5;241m*\u001b[39m\u001b[38;5;241m*\u001b[39mparams,\n\u001b[1;32m    137\u001b[0m ):\n\u001b[1;32m    138\u001b[0m     (\n\u001b[1;32m    139\u001b[0m         deployment_id,\n\u001b[1;32m    140\u001b[0m         engine,\n\u001b[0;32m   (...)\u001b[0m\n\u001b[1;32m    150\u001b[0m         api_key, api_base, api_type, api_version, organization, \u001b[38;5;241m*\u001b[39m\u001b[38;5;241m*\u001b[39mparams\n\u001b[1;32m    151\u001b[0m     )\n\u001b[0;32m--> 153\u001b[0m     response, _, api_key \u001b[38;5;241m=\u001b[39m \u001b[43mrequestor\u001b[49m\u001b[38;5;241;43m.\u001b[39;49m\u001b[43mrequest\u001b[49m\u001b[43m(\u001b[49m\n\u001b[1;32m    154\u001b[0m \u001b[43m        \u001b[49m\u001b[38;5;124;43m\"\u001b[39;49m\u001b[38;5;124;43mpost\u001b[39;49m\u001b[38;5;124;43m\"\u001b[39;49m\u001b[43m,\u001b[49m\n\u001b[1;32m    155\u001b[0m \u001b[43m        \u001b[49m\u001b[43murl\u001b[49m\u001b[43m,\u001b[49m\n\u001b[1;32m    156\u001b[0m \u001b[43m        \u001b[49m\u001b[43mparams\u001b[49m\u001b[38;5;241;43m=\u001b[39;49m\u001b[43mparams\u001b[49m\u001b[43m,\u001b[49m\n\u001b[1;32m    157\u001b[0m \u001b[43m        \u001b[49m\u001b[43mheaders\u001b[49m\u001b[38;5;241;43m=\u001b[39;49m\u001b[43mheaders\u001b[49m\u001b[43m,\u001b[49m\n\u001b[1;32m    158\u001b[0m \u001b[43m        \u001b[49m\u001b[43mstream\u001b[49m\u001b[38;5;241;43m=\u001b[39;49m\u001b[43mstream\u001b[49m\u001b[43m,\u001b[49m\n\u001b[1;32m    159\u001b[0m \u001b[43m        \u001b[49m\u001b[43mrequest_id\u001b[49m\u001b[38;5;241;43m=\u001b[39;49m\u001b[43mrequest_id\u001b[49m\u001b[43m,\u001b[49m\n\u001b[1;32m    160\u001b[0m \u001b[43m        \u001b[49m\u001b[43mrequest_timeout\u001b[49m\u001b[38;5;241;43m=\u001b[39;49m\u001b[43mrequest_timeout\u001b[49m\u001b[43m,\u001b[49m\n\u001b[1;32m    161\u001b[0m \u001b[43m    \u001b[49m\u001b[43m)\u001b[49m\n\u001b[1;32m    163\u001b[0m     \u001b[38;5;28;01mif\u001b[39;00m stream:\n\u001b[1;32m    164\u001b[0m         \u001b[38;5;66;03m# must be an iterator\u001b[39;00m\n\u001b[1;32m    165\u001b[0m         \u001b[38;5;28;01massert\u001b[39;00m \u001b[38;5;129;01mnot\u001b[39;00m \u001b[38;5;28misinstance\u001b[39m(response, OpenAIResponse)\n",
      "File \u001b[0;32m/opt/anaconda3/envs/llmops-course-venv/lib/python3.9/site-packages/openai/api_requestor.py:298\u001b[0m, in \u001b[0;36mAPIRequestor.request\u001b[0;34m(self, method, url, params, headers, files, stream, request_id, request_timeout)\u001b[0m\n\u001b[1;32m    277\u001b[0m \u001b[38;5;28;01mdef\u001b[39;00m \u001b[38;5;21mrequest\u001b[39m(\n\u001b[1;32m    278\u001b[0m     \u001b[38;5;28mself\u001b[39m,\n\u001b[1;32m    279\u001b[0m     method,\n\u001b[0;32m   (...)\u001b[0m\n\u001b[1;32m    286\u001b[0m     request_timeout: Optional[Union[\u001b[38;5;28mfloat\u001b[39m, Tuple[\u001b[38;5;28mfloat\u001b[39m, \u001b[38;5;28mfloat\u001b[39m]]] \u001b[38;5;241m=\u001b[39m \u001b[38;5;28;01mNone\u001b[39;00m,\n\u001b[1;32m    287\u001b[0m ) \u001b[38;5;241m-\u001b[39m\u001b[38;5;241m>\u001b[39m Tuple[Union[OpenAIResponse, Iterator[OpenAIResponse]], \u001b[38;5;28mbool\u001b[39m, \u001b[38;5;28mstr\u001b[39m]:\n\u001b[1;32m    288\u001b[0m     result \u001b[38;5;241m=\u001b[39m \u001b[38;5;28mself\u001b[39m\u001b[38;5;241m.\u001b[39mrequest_raw(\n\u001b[1;32m    289\u001b[0m         method\u001b[38;5;241m.\u001b[39mlower(),\n\u001b[1;32m    290\u001b[0m         url,\n\u001b[0;32m   (...)\u001b[0m\n\u001b[1;32m    296\u001b[0m         request_timeout\u001b[38;5;241m=\u001b[39mrequest_timeout,\n\u001b[1;32m    297\u001b[0m     )\n\u001b[0;32m--> 298\u001b[0m     resp, got_stream \u001b[38;5;241m=\u001b[39m \u001b[38;5;28;43mself\u001b[39;49m\u001b[38;5;241;43m.\u001b[39;49m\u001b[43m_interpret_response\u001b[49m\u001b[43m(\u001b[49m\u001b[43mresult\u001b[49m\u001b[43m,\u001b[49m\u001b[43m \u001b[49m\u001b[43mstream\u001b[49m\u001b[43m)\u001b[49m\n\u001b[1;32m    299\u001b[0m     \u001b[38;5;28;01mreturn\u001b[39;00m resp, got_stream, \u001b[38;5;28mself\u001b[39m\u001b[38;5;241m.\u001b[39mapi_key\n",
      "File \u001b[0;32m/opt/anaconda3/envs/llmops-course-venv/lib/python3.9/site-packages/openai/api_requestor.py:700\u001b[0m, in \u001b[0;36mAPIRequestor._interpret_response\u001b[0;34m(self, result, stream)\u001b[0m\n\u001b[1;32m    692\u001b[0m     \u001b[38;5;28;01mreturn\u001b[39;00m (\n\u001b[1;32m    693\u001b[0m         \u001b[38;5;28mself\u001b[39m\u001b[38;5;241m.\u001b[39m_interpret_response_line(\n\u001b[1;32m    694\u001b[0m             line, result\u001b[38;5;241m.\u001b[39mstatus_code, result\u001b[38;5;241m.\u001b[39mheaders, stream\u001b[38;5;241m=\u001b[39m\u001b[38;5;28;01mTrue\u001b[39;00m\n\u001b[1;32m    695\u001b[0m         )\n\u001b[1;32m    696\u001b[0m         \u001b[38;5;28;01mfor\u001b[39;00m line \u001b[38;5;129;01min\u001b[39;00m parse_stream(result\u001b[38;5;241m.\u001b[39miter_lines())\n\u001b[1;32m    697\u001b[0m     ), \u001b[38;5;28;01mTrue\u001b[39;00m\n\u001b[1;32m    698\u001b[0m \u001b[38;5;28;01melse\u001b[39;00m:\n\u001b[1;32m    699\u001b[0m     \u001b[38;5;28;01mreturn\u001b[39;00m (\n\u001b[0;32m--> 700\u001b[0m         \u001b[38;5;28;43mself\u001b[39;49m\u001b[38;5;241;43m.\u001b[39;49m\u001b[43m_interpret_response_line\u001b[49m\u001b[43m(\u001b[49m\n\u001b[1;32m    701\u001b[0m \u001b[43m            \u001b[49m\u001b[43mresult\u001b[49m\u001b[38;5;241;43m.\u001b[39;49m\u001b[43mcontent\u001b[49m\u001b[38;5;241;43m.\u001b[39;49m\u001b[43mdecode\u001b[49m\u001b[43m(\u001b[49m\u001b[38;5;124;43m\"\u001b[39;49m\u001b[38;5;124;43mutf-8\u001b[39;49m\u001b[38;5;124;43m\"\u001b[39;49m\u001b[43m)\u001b[49m\u001b[43m,\u001b[49m\n\u001b[1;32m    702\u001b[0m \u001b[43m            \u001b[49m\u001b[43mresult\u001b[49m\u001b[38;5;241;43m.\u001b[39;49m\u001b[43mstatus_code\u001b[49m\u001b[43m,\u001b[49m\n\u001b[1;32m    703\u001b[0m \u001b[43m            \u001b[49m\u001b[43mresult\u001b[49m\u001b[38;5;241;43m.\u001b[39;49m\u001b[43mheaders\u001b[49m\u001b[43m,\u001b[49m\n\u001b[1;32m    704\u001b[0m \u001b[43m            \u001b[49m\u001b[43mstream\u001b[49m\u001b[38;5;241;43m=\u001b[39;49m\u001b[38;5;28;43;01mFalse\u001b[39;49;00m\u001b[43m,\u001b[49m\n\u001b[1;32m    705\u001b[0m \u001b[43m        \u001b[49m\u001b[43m)\u001b[49m,\n\u001b[1;32m    706\u001b[0m         \u001b[38;5;28;01mFalse\u001b[39;00m,\n\u001b[1;32m    707\u001b[0m     )\n",
      "File \u001b[0;32m/opt/anaconda3/envs/llmops-course-venv/lib/python3.9/site-packages/openai/api_requestor.py:763\u001b[0m, in \u001b[0;36mAPIRequestor._interpret_response_line\u001b[0;34m(self, rbody, rcode, rheaders, stream)\u001b[0m\n\u001b[1;32m    761\u001b[0m stream_error \u001b[38;5;241m=\u001b[39m stream \u001b[38;5;129;01mand\u001b[39;00m \u001b[38;5;124m\"\u001b[39m\u001b[38;5;124merror\u001b[39m\u001b[38;5;124m\"\u001b[39m \u001b[38;5;129;01min\u001b[39;00m resp\u001b[38;5;241m.\u001b[39mdata\n\u001b[1;32m    762\u001b[0m \u001b[38;5;28;01mif\u001b[39;00m stream_error \u001b[38;5;129;01mor\u001b[39;00m \u001b[38;5;129;01mnot\u001b[39;00m \u001b[38;5;241m200\u001b[39m \u001b[38;5;241m<\u001b[39m\u001b[38;5;241m=\u001b[39m rcode \u001b[38;5;241m<\u001b[39m \u001b[38;5;241m300\u001b[39m:\n\u001b[0;32m--> 763\u001b[0m     \u001b[38;5;28;01mraise\u001b[39;00m \u001b[38;5;28mself\u001b[39m\u001b[38;5;241m.\u001b[39mhandle_error_response(\n\u001b[1;32m    764\u001b[0m         rbody, rcode, resp\u001b[38;5;241m.\u001b[39mdata, rheaders, stream_error\u001b[38;5;241m=\u001b[39mstream_error\n\u001b[1;32m    765\u001b[0m     )\n\u001b[1;32m    766\u001b[0m \u001b[38;5;28;01mreturn\u001b[39;00m resp\n",
      "\u001b[0;31mInvalidRequestError\u001b[0m: This model's maximum context length is 4097 tokens. However, your messages resulted in 5802 tokens. Please reduce the length of the messages."
     ]
    }
   ],
   "source": [
    "barbenheimer_agent_chain.run({\"input\" : \"Did the movies Barbie and Oppenheimer share similar themes or ideas?\"})"
   ]
  },
  {
   "cell_type": "markdown",
   "metadata": {},
   "source": [
    "## Next Steps\n",
    "\n",
    "It's time to build a Chainlit (or Gradio) application and host it on Hugging Face Spaces! :ship:"
   ]
  }
 ],
 "metadata": {
  "kernelspec": {
   "display_name": "Python 3 (ipykernel)",
   "language": "python",
   "name": "python3"
  },
  "language_info": {
   "codemirror_mode": {
    "name": "ipython",
    "version": 3
   },
   "file_extension": ".py",
   "mimetype": "text/x-python",
   "name": "python",
   "nbconvert_exporter": "python",
   "pygments_lexer": "ipython3",
   "version": "3.9.17"
  }
 },
 "nbformat": 4,
 "nbformat_minor": 2
}
